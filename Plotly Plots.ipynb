{
 "cells": [
  {
   "cell_type": "code",
   "execution_count": 22,
   "id": "aef9054f",
   "metadata": {},
   "outputs": [
    {
     "data": {
      "application/vnd.plotly.v1+json": {
       "config": {
        "plotlyServerURL": "https://plot.ly"
       },
       "data": [
        {
         "customdata": [
          [
           "US",
           35096687,
           0,
           612961
          ],
          [
           "India",
           31655824,
           30820521,
           424351
          ],
          [
           "Brazil",
           19922146,
           17771228,
           556676
          ],
          [
           "France",
           6190621,
           413170,
           112061
          ],
          [
           "Russia",
           6185249,
           5539787,
           155952
          ],
          [
           "United Kingdom",
           5883421,
           20928,
           129949
          ],
          [
           "Turkey",
           5727045,
           5454360,
           51332
          ],
          [
           "Argentina",
           4929764,
           4569552,
           105721
          ],
          [
           "Colombia",
           4785320,
           4578519,
           120723
          ],
          [
           "Spain",
           4447044,
           150376,
           81486
          ],
          [
           "Italy",
           4350028,
           4134680,
           128063
          ],
          [
           "Iran",
           3871008,
           3367272,
           90630
          ],
          [
           "Germany",
           3776724,
           3653150,
           91666
          ],
          [
           "Indonesia",
           3409658,
           2770092,
           94119
          ],
          [
           "Poland",
           2882939,
           2653700,
           75261
          ],
          [
           "Mexico",
           2848252,
           2215884,
           240906
          ],
          [
           "South Africa",
           2447454,
           2222338,
           72013
          ],
          [
           "Ukraine",
           2333409,
           2255695,
           55556
          ],
          [
           "Peru",
           2111393,
           2078316,
           196353
          ],
          [
           "Netherlands",
           1895343,
           28329,
           18114
          ],
          [
           "Czechia",
           1673576,
           1640314,
           30373
          ],
          [
           "Iraq",
           1626599,
           1464273,
           18657
          ],
          [
           "Chile",
           1615771,
           1570492,
           35448
          ],
          [
           "Philippines",
           1588965,
           1500189,
           27889
          ],
          [
           "Canada",
           1431027,
           1404107,
           26599
          ],
          [
           "Bangladesh",
           1249484,
           1078212,
           20685
          ],
          [
           "Belgium",
           1124715,
           0,
           25241
          ],
          [
           "Malaysia",
           1113272,
           914637,
           9024
          ],
          [
           "Sweden",
           1100040,
           0,
           14655
          ],
          [
           "Romania",
           1083189,
           1047723,
           34281
          ],
          [
           "Pakistan",
           1034837,
           941659,
           23422
          ],
          [
           "Portugal",
           968631,
           902014,
           17361
          ],
          [
           "Japan",
           926604,
           834811,
           15191
          ],
          [
           "Israel",
           874018,
           849013,
           6473
          ],
          [
           "Hungary",
           809491,
           748157,
           30026
          ],
          [
           "Slovakia",
           776444,
           255300,
           12540
          ],
          [
           "Jordan",
           770712,
           750518,
           10032
          ],
          [
           "Serbia",
           721918,
           0,
           7114
          ],
          [
           "Switzerland",
           717665,
           317600,
           10793
          ],
          [
           "Nepal",
           695389,
           654177,
           9857
          ],
          [
           "United Arab Emirates",
           680858,
           658198,
           1949
          ],
          [
           "Austria",
           659056,
           643027,
           10737
          ],
          [
           "Kazakhstan",
           633469,
           527894,
           9077
          ],
          [
           "Morocco",
           623528,
           561930,
           9785
          ],
          [
           "Thailand",
           597287,
           26873,
           4857
          ],
          [
           "Tunisia",
           589565,
           510696,
           19686
          ],
          [
           "Lebanon",
           561380,
           537111,
           7906
          ],
          [
           "Saudi Arabia",
           525730,
           506089,
           8237
          ],
          [
           "Greece",
           493304,
           93764,
           12965
          ],
          [
           "Ecuador",
           487372,
           443880,
           31631
          ],
          [
           "Bolivia",
           473506,
           407932,
           17821
          ],
          [
           "Paraguay",
           452388,
           420031,
           14981
          ],
          [
           "Belarus",
           446040,
           440200,
           3454
          ],
          [
           "Panama",
           435655,
           416263,
           6823
          ],
          [
           "Bulgaria",
           425054,
           398545,
           18213
          ],
          [
           "Georgia",
           419534,
           382393,
           5820
          ],
          [
           "Costa Rica",
           406814,
           329639,
           5030
          ],
          [
           "Kuwait",
           397831,
           384062,
           2320
          ],
          [
           "Cuba",
           384596,
           338968,
           2758
          ],
          [
           "Uruguay",
           381517,
           373481,
           5964
          ],
          [
           "Guatemala",
           368484,
           321832,
           10339
          ],
          [
           "Croatia",
           363615,
           354238,
           8259
          ],
          [
           "Azerbaijan",
           343849,
           332926,
           5023
          ],
          [
           "Dominican Republic",
           341905,
           323333,
           3963
          ],
          [
           "Denmark",
           317909,
           304203,
           2551
          ],
          [
           "West Bank and Gaza",
           316738,
           311832,
           3603
          ],
          [
           "Sri Lanka",
           308812,
           277118,
           4436
          ],
          [
           "Venezuela",
           305766,
           290181,
           3591
          ],
          [
           "Ireland",
           300976,
           23364,
           5035
          ],
          [
           "Burma",
           299185,
           209512,
           9334
          ],
          [
           "Honduras",
           297111,
           100697,
           7834
          ],
          [
           "Oman",
           295857,
           278195,
           3814
          ],
          [
           "Egypt",
           284262,
           230368,
           16524
          ],
          [
           "Lithuania",
           282818,
           269309,
           4415
          ],
          [
           "Ethiopia",
           280365,
           263500,
           4385
          ],
          [
           "Bahrain",
           269186,
           266796,
           1384
          ],
          [
           "Moldova",
           259478,
           252051,
           6255
          ],
          [
           "Slovenia",
           259215,
           253742,
           4429
          ],
          [
           "Libya",
           249114,
           190978,
           3509
          ],
          [
           "Armenia",
           230110,
           219864,
           4614
          ],
          [
           "Qatar",
           226239,
           223732,
           601
          ],
          [
           "Bosnia and Herzegovina",
           205655,
           189369,
           9687
          ],
          [
           "Kenya",
           203213,
           188936,
           3931
          ],
          [
           "Korea, South",
           199787,
           175674,
           2098
          ],
          [
           "Zambia",
           195816,
           187236,
           3389
          ],
          [
           "Nigeria",
           173908,
           164994,
           2149
          ],
          [
           "Algeria",
           171392,
           115276,
           4254
          ],
          [
           "Mongolia",
           165147,
           164829,
           815
          ],
          [
           "Kyrgyzstan",
           162892,
           144564,
           2325
          ],
          [
           "North Macedonia",
           156380,
           150362,
           5493
          ],
          [
           "Vietnam",
           150060,
           38734,
           1306
          ],
          [
           "Afghanistan",
           147154,
           82586,
           6708
          ],
          [
           "Latvia",
           138863,
           135583,
           2556
          ],
          [
           "Norway",
           137627,
           17998,
           799
          ],
          [
           "Estonia",
           133557,
           128898,
           1272
          ],
          [
           "Albania",
           133081,
           130222,
           2457
          ],
          [
           "Uzbekistan",
           129327,
           123164,
           874
          ],
          [
           "Mozambique",
           122028,
           88380,
           1434
          ],
          [
           "Namibia",
           118922,
           95250,
           3044
          ],
          [
           "Zimbabwe",
           108860,
           75856,
           3532
          ],
          [
           "Kosovo",
           108365,
           105657,
           2269
          ],
          [
           "Finland",
           107458,
           46000,
           1005
          ],
          [
           "Botswana",
           106690,
           95323,
           1569
          ],
          [
           "China",
           105050,
           99119,
           4848
          ],
          [
           "Ghana",
           103019,
           97213,
           823
          ],
          [
           "Cyprus",
           102926,
           39061,
           420
          ],
          [
           "Montenegro",
           101927,
           98971,
           1630
          ],
          [
           "Uganda",
           93927,
           83115,
           2690
          ],
          [
           "El Salvador",
           86620,
           76265,
           2629
          ],
          [
           "Cameroon",
           82064,
           35261,
           1334
          ],
          [
           "Maldives",
           77432,
           74598,
           221
          ],
          [
           "Cambodia",
           77243,
           69996,
           1397
          ],
          [
           "Luxembourg",
           73870,
           71867,
           822
          ],
          [
           "Rwanda",
           70698,
           44837,
           808
          ],
          [
           "Singapore",
           64981,
           62863,
           37
          ],
          [
           "Senegal",
           62290,
           47136,
           1353
          ],
          [
           "Jamaica",
           52895,
           46979,
           1190
          ],
          [
           "Malawi",
           52347,
           38005,
           1635
          ],
          [
           "Cote d'Ivoire",
           50135,
           49261,
           329
          ],
          [
           "Congo (Kinshasa)",
           49917,
           29994,
           1038
          ],
          [
           "Angola",
           42777,
           37255,
           1011
          ],
          [
           "Madagascar",
           42663,
           41143,
           943
          ],
          [
           "Trinidad and Tobago",
           38811,
           31783,
           1070
          ],
          [
           "Sudan",
           37138,
           30647,
           2776
          ],
          [
           "Australia",
           34383,
           24093,
           924
          ],
          [
           "Malta",
           34295,
           31629,
           423
          ],
          [
           "Cabo Verde",
           33791,
           33011,
           298
          ],
          [
           "Fiji",
           29781,
           7705,
           238
          ],
          [
           "Eswatini",
           25979,
           20918,
           787
          ],
          [
           "Syria",
           25963,
           21987,
           1914
          ],
          [
           "Mauritania",
           25691,
           22228,
           562
          ],
          [
           "Guinea",
           25688,
           24148,
           220
          ],
          [
           "Gabon",
           25384,
           25166,
           164
          ],
          [
           "Suriname",
           25351,
           21700,
           649
          ],
          [
           "Guyana",
           22523,
           21183,
           541
          ],
          [
           "Haiti",
           20077,
           12961,
           545
          ],
          [
           "Seychelles",
           18328,
           17538,
           79
          ],
          [
           "Papua New Guinea",
           17717,
           17324,
           192
          ],
          [
           "Togo",
           15798,
           14450,
           152
          ],
          [
           "Taiwan*",
           15674,
           12856,
           787
          ],
          [
           "Tajikistan",
           15482,
           14556,
           122
          ],
          [
           "Somalia",
           15403,
           7533,
           811
          ],
          [
           "Bahamas",
           14840,
           12606,
           287
          ],
          [
           "Andorra",
           14678,
           14210,
           128
          ],
          [
           "Mali",
           14584,
           13945,
           532
          ],
          [
           "Belize",
           14163,
           13420,
           337
          ],
          [
           "Burkina Faso",
           13573,
           13369,
           169
          ],
          [
           "Congo (Brazzaville)",
           13186,
           12421,
           178
          ],
          [
           "Lesotho",
           12908,
           6649,
           374
          ],
          [
           "Djibouti",
           11651,
           11490,
           156
          ],
          [
           "South Sudan",
           11049,
           10514,
           119
          ],
          [
           "Timor-Leste",
           10898,
           9889,
           26
          ],
          [
           "Nicaragua",
           9470,
           4225,
           195
          ],
          [
           "Equatorial Guinea",
           8880,
           8637,
           123
          ],
          [
           "Benin",
           8394,
           8136,
           108
          ],
          [
           "Iceland",
           7959,
           6716,
           30
          ],
          [
           "Gambia",
           7709,
           6600,
           212
          ],
          [
           "Central African Republic",
           7151,
           6859,
           98
          ],
          [
           "Burundi",
           7080,
           773,
           9
          ],
          [
           "Yemen",
           7061,
           4185,
           1375
          ],
          [
           "Eritrea",
           6547,
           6444,
           35
          ],
          [
           "Laos",
           6299,
           2804,
           7
          ],
          [
           "Sierra Leone",
           6283,
           4270,
           120
          ],
          [
           "Niger",
           5623,
           5342,
           195
          ],
          [
           "Saint Lucia",
           5610,
           5377,
           89
          ],
          [
           "Liberia",
           5404,
           2715,
           148
          ],
          [
           "San Marino",
           5143,
           5005,
           90
          ],
          [
           "Chad",
           4973,
           4792,
           174
          ],
          [
           "Guinea-Bissau",
           4479,
           3929,
           76
          ],
          [
           "Barbados",
           4390,
           4229,
           48
          ],
          [
           "Mauritius",
           4214,
           1854,
           20
          ],
          [
           "Comoros",
           4028,
           3865,
           147
          ],
          [
           "Liechtenstein",
           3187,
           3009,
           58
          ],
          [
           "Monaco",
           2889,
           2707,
           33
          ],
          [
           "New Zealand",
           2874,
           2811,
           26
          ],
          [
           "Bhutan",
           2515,
           2374,
           2
          ],
          [
           "Sao Tome and Principe",
           2454,
           2358,
           37
          ],
          [
           "Saint Vincent and the Grenadines",
           2291,
           2229,
           12
          ],
          [
           "Antigua and Barbuda",
           1303,
           1235,
           43
          ],
          [
           "Tanzania",
           1017,
           183,
           21
          ],
          [
           "Diamond Princess",
           712,
           699,
           13
          ],
          [
           "Saint Kitts and Nevis",
           593,
           544,
           3
          ],
          [
           "Brunei",
           337,
           280,
           3
          ],
          [
           "Summer Olympics 2020",
           246,
           0,
           0
          ],
          [
           "Dominica",
           210,
           200,
           0
          ],
          [
           "Grenada",
           164,
           161,
           1
          ],
          [
           "Holy See",
           27,
           27,
           0
          ],
          [
           "Solomon Islands",
           20,
           20,
           0
          ],
          [
           "MS Zaandam",
           9,
           7,
           2
          ],
          [
           "Marshall Islands",
           4,
           4,
           0
          ],
          [
           "Vanuatu",
           4,
           3,
           1
          ],
          [
           "Samoa",
           3,
           3,
           0
          ],
          [
           "Kiribati",
           2,
           0,
           0
          ],
          [
           "Micronesia",
           1,
           1,
           0
          ],
          [
           "Tonga",
           0,
           0,
           0
          ],
          [
           "Palau",
           0,
           0,
           0
          ],
          [
           "Antarctica",
           0,
           0,
           0
          ],
          [
           "Winter Olympics 2022",
           0,
           0,
           0
          ]
         ],
         "geo": "geo",
         "hovertemplate": "<b>%{hovertext}</b><br><br>Confirmed=%{marker.color:,}<br>Recovered=%{customdata[2]:,}<br>Deaths=%{customdata[3]:,}<extra></extra>",
         "hovertext": [
          "US",
          "India",
          "Brazil",
          "France",
          "Russia",
          "United Kingdom",
          "Turkey",
          "Argentina",
          "Colombia",
          "Spain",
          "Italy",
          "Iran",
          "Germany",
          "Indonesia",
          "Poland",
          "Mexico",
          "South Africa",
          "Ukraine",
          "Peru",
          "Netherlands",
          "Czechia",
          "Iraq",
          "Chile",
          "Philippines",
          "Canada",
          "Bangladesh",
          "Belgium",
          "Malaysia",
          "Sweden",
          "Romania",
          "Pakistan",
          "Portugal",
          "Japan",
          "Israel",
          "Hungary",
          "Slovakia",
          "Jordan",
          "Serbia",
          "Switzerland",
          "Nepal",
          "United Arab Emirates",
          "Austria",
          "Kazakhstan",
          "Morocco",
          "Thailand",
          "Tunisia",
          "Lebanon",
          "Saudi Arabia",
          "Greece",
          "Ecuador",
          "Bolivia",
          "Paraguay",
          "Belarus",
          "Panama",
          "Bulgaria",
          "Georgia",
          "Costa Rica",
          "Kuwait",
          "Cuba",
          "Uruguay",
          "Guatemala",
          "Croatia",
          "Azerbaijan",
          "Dominican Republic",
          "Denmark",
          "West Bank and Gaza",
          "Sri Lanka",
          "Venezuela",
          "Ireland",
          "Burma",
          "Honduras",
          "Oman",
          "Egypt",
          "Lithuania",
          "Ethiopia",
          "Bahrain",
          "Moldova",
          "Slovenia",
          "Libya",
          "Armenia",
          "Qatar",
          "Bosnia and Herzegovina",
          "Kenya",
          "Korea, South",
          "Zambia",
          "Nigeria",
          "Algeria",
          "Mongolia",
          "Kyrgyzstan",
          "North Macedonia",
          "Vietnam",
          "Afghanistan",
          "Latvia",
          "Norway",
          "Estonia",
          "Albania",
          "Uzbekistan",
          "Mozambique",
          "Namibia",
          "Zimbabwe",
          "Kosovo",
          "Finland",
          "Botswana",
          "China",
          "Ghana",
          "Cyprus",
          "Montenegro",
          "Uganda",
          "El Salvador",
          "Cameroon",
          "Maldives",
          "Cambodia",
          "Luxembourg",
          "Rwanda",
          "Singapore",
          "Senegal",
          "Jamaica",
          "Malawi",
          "Cote d'Ivoire",
          "Congo (Kinshasa)",
          "Angola",
          "Madagascar",
          "Trinidad and Tobago",
          "Sudan",
          "Australia",
          "Malta",
          "Cabo Verde",
          "Fiji",
          "Eswatini",
          "Syria",
          "Mauritania",
          "Guinea",
          "Gabon",
          "Suriname",
          "Guyana",
          "Haiti",
          "Seychelles",
          "Papua New Guinea",
          "Togo",
          "Taiwan*",
          "Tajikistan",
          "Somalia",
          "Bahamas",
          "Andorra",
          "Mali",
          "Belize",
          "Burkina Faso",
          "Congo (Brazzaville)",
          "Lesotho",
          "Djibouti",
          "South Sudan",
          "Timor-Leste",
          "Nicaragua",
          "Equatorial Guinea",
          "Benin",
          "Iceland",
          "Gambia",
          "Central African Republic",
          "Burundi",
          "Yemen",
          "Eritrea",
          "Laos",
          "Sierra Leone",
          "Niger",
          "Saint Lucia",
          "Liberia",
          "San Marino",
          "Chad",
          "Guinea-Bissau",
          "Barbados",
          "Mauritius",
          "Comoros",
          "Liechtenstein",
          "Monaco",
          "New Zealand",
          "Bhutan",
          "Sao Tome and Principe",
          "Saint Vincent and the Grenadines",
          "Antigua and Barbuda",
          "Tanzania",
          "Diamond Princess",
          "Saint Kitts and Nevis",
          "Brunei",
          "Summer Olympics 2020",
          "Dominica",
          "Grenada",
          "Holy See",
          "Solomon Islands",
          "MS Zaandam",
          "Marshall Islands",
          "Vanuatu",
          "Samoa",
          "Kiribati",
          "Micronesia",
          "Tonga",
          "Palau",
          "Antarctica",
          "Winter Olympics 2022"
         ],
         "legendgroup": "",
         "locationmode": "country names",
         "locations": [
          "US",
          "India",
          "Brazil",
          "France",
          "Russia",
          "United Kingdom",
          "Turkey",
          "Argentina",
          "Colombia",
          "Spain",
          "Italy",
          "Iran",
          "Germany",
          "Indonesia",
          "Poland",
          "Mexico",
          "South Africa",
          "Ukraine",
          "Peru",
          "Netherlands",
          "Czechia",
          "Iraq",
          "Chile",
          "Philippines",
          "Canada",
          "Bangladesh",
          "Belgium",
          "Malaysia",
          "Sweden",
          "Romania",
          "Pakistan",
          "Portugal",
          "Japan",
          "Israel",
          "Hungary",
          "Slovakia",
          "Jordan",
          "Serbia",
          "Switzerland",
          "Nepal",
          "United Arab Emirates",
          "Austria",
          "Kazakhstan",
          "Morocco",
          "Thailand",
          "Tunisia",
          "Lebanon",
          "Saudi Arabia",
          "Greece",
          "Ecuador",
          "Bolivia",
          "Paraguay",
          "Belarus",
          "Panama",
          "Bulgaria",
          "Georgia",
          "Costa Rica",
          "Kuwait",
          "Cuba",
          "Uruguay",
          "Guatemala",
          "Croatia",
          "Azerbaijan",
          "Dominican Republic",
          "Denmark",
          "West Bank and Gaza",
          "Sri Lanka",
          "Venezuela",
          "Ireland",
          "Burma",
          "Honduras",
          "Oman",
          "Egypt",
          "Lithuania",
          "Ethiopia",
          "Bahrain",
          "Moldova",
          "Slovenia",
          "Libya",
          "Armenia",
          "Qatar",
          "Bosnia and Herzegovina",
          "Kenya",
          "Korea, South",
          "Zambia",
          "Nigeria",
          "Algeria",
          "Mongolia",
          "Kyrgyzstan",
          "North Macedonia",
          "Vietnam",
          "Afghanistan",
          "Latvia",
          "Norway",
          "Estonia",
          "Albania",
          "Uzbekistan",
          "Mozambique",
          "Namibia",
          "Zimbabwe",
          "Kosovo",
          "Finland",
          "Botswana",
          "China",
          "Ghana",
          "Cyprus",
          "Montenegro",
          "Uganda",
          "El Salvador",
          "Cameroon",
          "Maldives",
          "Cambodia",
          "Luxembourg",
          "Rwanda",
          "Singapore",
          "Senegal",
          "Jamaica",
          "Malawi",
          "Cote d'Ivoire",
          "Congo (Kinshasa)",
          "Angola",
          "Madagascar",
          "Trinidad and Tobago",
          "Sudan",
          "Australia",
          "Malta",
          "Cabo Verde",
          "Fiji",
          "Eswatini",
          "Syria",
          "Mauritania",
          "Guinea",
          "Gabon",
          "Suriname",
          "Guyana",
          "Haiti",
          "Seychelles",
          "Papua New Guinea",
          "Togo",
          "Taiwan*",
          "Tajikistan",
          "Somalia",
          "Bahamas",
          "Andorra",
          "Mali",
          "Belize",
          "Burkina Faso",
          "Congo (Brazzaville)",
          "Lesotho",
          "Djibouti",
          "South Sudan",
          "Timor-Leste",
          "Nicaragua",
          "Equatorial Guinea",
          "Benin",
          "Iceland",
          "Gambia",
          "Central African Republic",
          "Burundi",
          "Yemen",
          "Eritrea",
          "Laos",
          "Sierra Leone",
          "Niger",
          "Saint Lucia",
          "Liberia",
          "San Marino",
          "Chad",
          "Guinea-Bissau",
          "Barbados",
          "Mauritius",
          "Comoros",
          "Liechtenstein",
          "Monaco",
          "New Zealand",
          "Bhutan",
          "Sao Tome and Principe",
          "Saint Vincent and the Grenadines",
          "Antigua and Barbuda",
          "Tanzania",
          "Diamond Princess",
          "Saint Kitts and Nevis",
          "Brunei",
          "Summer Olympics 2020",
          "Dominica",
          "Grenada",
          "Holy See",
          "Solomon Islands",
          "MS Zaandam",
          "Marshall Islands",
          "Vanuatu",
          "Samoa",
          "Kiribati",
          "Micronesia",
          "Tonga",
          "Palau",
          "Antarctica",
          "Winter Olympics 2022"
         ],
         "marker": {
          "color": [
           35096687,
           31655824,
           19922146,
           6190621,
           6185249,
           5883421,
           5727045,
           4929764,
           4785320,
           4447044,
           4350028,
           3871008,
           3776724,
           3409658,
           2882939,
           2848252,
           2447454,
           2333409,
           2111393,
           1895343,
           1673576,
           1626599,
           1615771,
           1588965,
           1431027,
           1249484,
           1124715,
           1113272,
           1100040,
           1083189,
           1034837,
           968631,
           926604,
           874018,
           809491,
           776444,
           770712,
           721918,
           717665,
           695389,
           680858,
           659056,
           633469,
           623528,
           597287,
           589565,
           561380,
           525730,
           493304,
           487372,
           473506,
           452388,
           446040,
           435655,
           425054,
           419534,
           406814,
           397831,
           384596,
           381517,
           368484,
           363615,
           343849,
           341905,
           317909,
           316738,
           308812,
           305766,
           300976,
           299185,
           297111,
           295857,
           284262,
           282818,
           280365,
           269186,
           259478,
           259215,
           249114,
           230110,
           226239,
           205655,
           203213,
           199787,
           195816,
           173908,
           171392,
           165147,
           162892,
           156380,
           150060,
           147154,
           138863,
           137627,
           133557,
           133081,
           129327,
           122028,
           118922,
           108860,
           108365,
           107458,
           106690,
           105050,
           103019,
           102926,
           101927,
           93927,
           86620,
           82064,
           77432,
           77243,
           73870,
           70698,
           64981,
           62290,
           52895,
           52347,
           50135,
           49917,
           42777,
           42663,
           38811,
           37138,
           34383,
           34295,
           33791,
           29781,
           25979,
           25963,
           25691,
           25688,
           25384,
           25351,
           22523,
           20077,
           18328,
           17717,
           15798,
           15674,
           15482,
           15403,
           14840,
           14678,
           14584,
           14163,
           13573,
           13186,
           12908,
           11651,
           11049,
           10898,
           9470,
           8880,
           8394,
           7959,
           7709,
           7151,
           7080,
           7061,
           6547,
           6299,
           6283,
           5623,
           5610,
           5404,
           5143,
           4973,
           4479,
           4390,
           4214,
           4028,
           3187,
           2889,
           2874,
           2515,
           2454,
           2291,
           1303,
           1017,
           712,
           593,
           337,
           246,
           210,
           164,
           27,
           20,
           9,
           4,
           4,
           3,
           2,
           1,
           0,
           0,
           0,
           0
          ],
          "coloraxis": "coloraxis",
          "size": [
           35096687,
           31655824,
           19922146,
           6190621,
           6185249,
           5883421,
           5727045,
           4929764,
           4785320,
           4447044,
           4350028,
           3871008,
           3776724,
           3409658,
           2882939,
           2848252,
           2447454,
           2333409,
           2111393,
           1895343,
           1673576,
           1626599,
           1615771,
           1588965,
           1431027,
           1249484,
           1124715,
           1113272,
           1100040,
           1083189,
           1034837,
           968631,
           926604,
           874018,
           809491,
           776444,
           770712,
           721918,
           717665,
           695389,
           680858,
           659056,
           633469,
           623528,
           597287,
           589565,
           561380,
           525730,
           493304,
           487372,
           473506,
           452388,
           446040,
           435655,
           425054,
           419534,
           406814,
           397831,
           384596,
           381517,
           368484,
           363615,
           343849,
           341905,
           317909,
           316738,
           308812,
           305766,
           300976,
           299185,
           297111,
           295857,
           284262,
           282818,
           280365,
           269186,
           259478,
           259215,
           249114,
           230110,
           226239,
           205655,
           203213,
           199787,
           195816,
           173908,
           171392,
           165147,
           162892,
           156380,
           150060,
           147154,
           138863,
           137627,
           133557,
           133081,
           129327,
           122028,
           118922,
           108860,
           108365,
           107458,
           106690,
           105050,
           103019,
           102926,
           101927,
           93927,
           86620,
           82064,
           77432,
           77243,
           73870,
           70698,
           64981,
           62290,
           52895,
           52347,
           50135,
           49917,
           42777,
           42663,
           38811,
           37138,
           34383,
           34295,
           33791,
           29781,
           25979,
           25963,
           25691,
           25688,
           25384,
           25351,
           22523,
           20077,
           18328,
           17717,
           15798,
           15674,
           15482,
           15403,
           14840,
           14678,
           14584,
           14163,
           13573,
           13186,
           12908,
           11651,
           11049,
           10898,
           9470,
           8880,
           8394,
           7959,
           7709,
           7151,
           7080,
           7061,
           6547,
           6299,
           6283,
           5623,
           5610,
           5404,
           5143,
           4973,
           4479,
           4390,
           4214,
           4028,
           3187,
           2889,
           2874,
           2515,
           2454,
           2291,
           1303,
           1017,
           712,
           593,
           337,
           246,
           210,
           164,
           27,
           20,
           9,
           4,
           4,
           3,
           2,
           1,
           0,
           0,
           0,
           0
          ],
          "sizemode": "area",
          "sizeref": 21935.429375,
          "symbol": "circle"
         },
         "mode": "markers",
         "name": "",
         "showlegend": false,
         "type": "scattergeo"
        }
       ],
       "layout": {
        "coloraxis": {
         "colorbar": {
          "title": {
           "text": "Confirmed"
          }
         },
         "colorscale": [
          [
           0,
           "#0d0887"
          ],
          [
           0.1111111111111111,
           "#46039f"
          ],
          [
           0.2222222222222222,
           "#7201a8"
          ],
          [
           0.3333333333333333,
           "#9c179e"
          ],
          [
           0.4444444444444444,
           "#bd3786"
          ],
          [
           0.5555555555555556,
           "#d8576b"
          ],
          [
           0.6666666666666666,
           "#ed7953"
          ],
          [
           0.7777777777777778,
           "#fb9f3a"
          ],
          [
           0.8888888888888888,
           "#fdca26"
          ],
          [
           1,
           "#f0f921"
          ]
         ]
        },
        "geo": {
         "center": {},
         "domain": {
          "x": [
           0,
           1
          ],
          "y": [
           0,
           1
          ]
         }
        },
        "legend": {
         "itemsizing": "constant",
         "tracegroupgap": 0
        },
        "margin": {
         "t": 60
        },
        "template": {
         "data": {
          "bar": [
           {
            "error_x": {
             "color": "#f2f5fa"
            },
            "error_y": {
             "color": "#f2f5fa"
            },
            "marker": {
             "line": {
              "color": "rgb(17,17,17)",
              "width": 0.5
             },
             "pattern": {
              "fillmode": "overlay",
              "size": 10,
              "solidity": 0.2
             }
            },
            "type": "bar"
           }
          ],
          "barpolar": [
           {
            "marker": {
             "line": {
              "color": "rgb(17,17,17)",
              "width": 0.5
             },
             "pattern": {
              "fillmode": "overlay",
              "size": 10,
              "solidity": 0.2
             }
            },
            "type": "barpolar"
           }
          ],
          "carpet": [
           {
            "aaxis": {
             "endlinecolor": "#A2B1C6",
             "gridcolor": "#506784",
             "linecolor": "#506784",
             "minorgridcolor": "#506784",
             "startlinecolor": "#A2B1C6"
            },
            "baxis": {
             "endlinecolor": "#A2B1C6",
             "gridcolor": "#506784",
             "linecolor": "#506784",
             "minorgridcolor": "#506784",
             "startlinecolor": "#A2B1C6"
            },
            "type": "carpet"
           }
          ],
          "choropleth": [
           {
            "colorbar": {
             "outlinewidth": 0,
             "ticks": ""
            },
            "type": "choropleth"
           }
          ],
          "contour": [
           {
            "colorbar": {
             "outlinewidth": 0,
             "ticks": ""
            },
            "colorscale": [
             [
              0,
              "#0d0887"
             ],
             [
              0.1111111111111111,
              "#46039f"
             ],
             [
              0.2222222222222222,
              "#7201a8"
             ],
             [
              0.3333333333333333,
              "#9c179e"
             ],
             [
              0.4444444444444444,
              "#bd3786"
             ],
             [
              0.5555555555555556,
              "#d8576b"
             ],
             [
              0.6666666666666666,
              "#ed7953"
             ],
             [
              0.7777777777777778,
              "#fb9f3a"
             ],
             [
              0.8888888888888888,
              "#fdca26"
             ],
             [
              1,
              "#f0f921"
             ]
            ],
            "type": "contour"
           }
          ],
          "contourcarpet": [
           {
            "colorbar": {
             "outlinewidth": 0,
             "ticks": ""
            },
            "type": "contourcarpet"
           }
          ],
          "heatmap": [
           {
            "colorbar": {
             "outlinewidth": 0,
             "ticks": ""
            },
            "colorscale": [
             [
              0,
              "#0d0887"
             ],
             [
              0.1111111111111111,
              "#46039f"
             ],
             [
              0.2222222222222222,
              "#7201a8"
             ],
             [
              0.3333333333333333,
              "#9c179e"
             ],
             [
              0.4444444444444444,
              "#bd3786"
             ],
             [
              0.5555555555555556,
              "#d8576b"
             ],
             [
              0.6666666666666666,
              "#ed7953"
             ],
             [
              0.7777777777777778,
              "#fb9f3a"
             ],
             [
              0.8888888888888888,
              "#fdca26"
             ],
             [
              1,
              "#f0f921"
             ]
            ],
            "type": "heatmap"
           }
          ],
          "heatmapgl": [
           {
            "colorbar": {
             "outlinewidth": 0,
             "ticks": ""
            },
            "colorscale": [
             [
              0,
              "#0d0887"
             ],
             [
              0.1111111111111111,
              "#46039f"
             ],
             [
              0.2222222222222222,
              "#7201a8"
             ],
             [
              0.3333333333333333,
              "#9c179e"
             ],
             [
              0.4444444444444444,
              "#bd3786"
             ],
             [
              0.5555555555555556,
              "#d8576b"
             ],
             [
              0.6666666666666666,
              "#ed7953"
             ],
             [
              0.7777777777777778,
              "#fb9f3a"
             ],
             [
              0.8888888888888888,
              "#fdca26"
             ],
             [
              1,
              "#f0f921"
             ]
            ],
            "type": "heatmapgl"
           }
          ],
          "histogram": [
           {
            "marker": {
             "pattern": {
              "fillmode": "overlay",
              "size": 10,
              "solidity": 0.2
             }
            },
            "type": "histogram"
           }
          ],
          "histogram2d": [
           {
            "colorbar": {
             "outlinewidth": 0,
             "ticks": ""
            },
            "colorscale": [
             [
              0,
              "#0d0887"
             ],
             [
              0.1111111111111111,
              "#46039f"
             ],
             [
              0.2222222222222222,
              "#7201a8"
             ],
             [
              0.3333333333333333,
              "#9c179e"
             ],
             [
              0.4444444444444444,
              "#bd3786"
             ],
             [
              0.5555555555555556,
              "#d8576b"
             ],
             [
              0.6666666666666666,
              "#ed7953"
             ],
             [
              0.7777777777777778,
              "#fb9f3a"
             ],
             [
              0.8888888888888888,
              "#fdca26"
             ],
             [
              1,
              "#f0f921"
             ]
            ],
            "type": "histogram2d"
           }
          ],
          "histogram2dcontour": [
           {
            "colorbar": {
             "outlinewidth": 0,
             "ticks": ""
            },
            "colorscale": [
             [
              0,
              "#0d0887"
             ],
             [
              0.1111111111111111,
              "#46039f"
             ],
             [
              0.2222222222222222,
              "#7201a8"
             ],
             [
              0.3333333333333333,
              "#9c179e"
             ],
             [
              0.4444444444444444,
              "#bd3786"
             ],
             [
              0.5555555555555556,
              "#d8576b"
             ],
             [
              0.6666666666666666,
              "#ed7953"
             ],
             [
              0.7777777777777778,
              "#fb9f3a"
             ],
             [
              0.8888888888888888,
              "#fdca26"
             ],
             [
              1,
              "#f0f921"
             ]
            ],
            "type": "histogram2dcontour"
           }
          ],
          "mesh3d": [
           {
            "colorbar": {
             "outlinewidth": 0,
             "ticks": ""
            },
            "type": "mesh3d"
           }
          ],
          "parcoords": [
           {
            "line": {
             "colorbar": {
              "outlinewidth": 0,
              "ticks": ""
             }
            },
            "type": "parcoords"
           }
          ],
          "pie": [
           {
            "automargin": true,
            "type": "pie"
           }
          ],
          "scatter": [
           {
            "marker": {
             "line": {
              "color": "#283442"
             }
            },
            "type": "scatter"
           }
          ],
          "scatter3d": [
           {
            "line": {
             "colorbar": {
              "outlinewidth": 0,
              "ticks": ""
             }
            },
            "marker": {
             "colorbar": {
              "outlinewidth": 0,
              "ticks": ""
             }
            },
            "type": "scatter3d"
           }
          ],
          "scattercarpet": [
           {
            "marker": {
             "colorbar": {
              "outlinewidth": 0,
              "ticks": ""
             }
            },
            "type": "scattercarpet"
           }
          ],
          "scattergeo": [
           {
            "marker": {
             "colorbar": {
              "outlinewidth": 0,
              "ticks": ""
             }
            },
            "type": "scattergeo"
           }
          ],
          "scattergl": [
           {
            "marker": {
             "line": {
              "color": "#283442"
             }
            },
            "type": "scattergl"
           }
          ],
          "scattermapbox": [
           {
            "marker": {
             "colorbar": {
              "outlinewidth": 0,
              "ticks": ""
             }
            },
            "type": "scattermapbox"
           }
          ],
          "scatterpolar": [
           {
            "marker": {
             "colorbar": {
              "outlinewidth": 0,
              "ticks": ""
             }
            },
            "type": "scatterpolar"
           }
          ],
          "scatterpolargl": [
           {
            "marker": {
             "colorbar": {
              "outlinewidth": 0,
              "ticks": ""
             }
            },
            "type": "scatterpolargl"
           }
          ],
          "scatterternary": [
           {
            "marker": {
             "colorbar": {
              "outlinewidth": 0,
              "ticks": ""
             }
            },
            "type": "scatterternary"
           }
          ],
          "surface": [
           {
            "colorbar": {
             "outlinewidth": 0,
             "ticks": ""
            },
            "colorscale": [
             [
              0,
              "#0d0887"
             ],
             [
              0.1111111111111111,
              "#46039f"
             ],
             [
              0.2222222222222222,
              "#7201a8"
             ],
             [
              0.3333333333333333,
              "#9c179e"
             ],
             [
              0.4444444444444444,
              "#bd3786"
             ],
             [
              0.5555555555555556,
              "#d8576b"
             ],
             [
              0.6666666666666666,
              "#ed7953"
             ],
             [
              0.7777777777777778,
              "#fb9f3a"
             ],
             [
              0.8888888888888888,
              "#fdca26"
             ],
             [
              1,
              "#f0f921"
             ]
            ],
            "type": "surface"
           }
          ],
          "table": [
           {
            "cells": {
             "fill": {
              "color": "#506784"
             },
             "line": {
              "color": "rgb(17,17,17)"
             }
            },
            "header": {
             "fill": {
              "color": "#2a3f5f"
             },
             "line": {
              "color": "rgb(17,17,17)"
             }
            },
            "type": "table"
           }
          ]
         },
         "layout": {
          "annotationdefaults": {
           "arrowcolor": "#f2f5fa",
           "arrowhead": 0,
           "arrowwidth": 1
          },
          "autotypenumbers": "strict",
          "coloraxis": {
           "colorbar": {
            "outlinewidth": 0,
            "ticks": ""
           }
          },
          "colorscale": {
           "diverging": [
            [
             0,
             "#8e0152"
            ],
            [
             0.1,
             "#c51b7d"
            ],
            [
             0.2,
             "#de77ae"
            ],
            [
             0.3,
             "#f1b6da"
            ],
            [
             0.4,
             "#fde0ef"
            ],
            [
             0.5,
             "#f7f7f7"
            ],
            [
             0.6,
             "#e6f5d0"
            ],
            [
             0.7,
             "#b8e186"
            ],
            [
             0.8,
             "#7fbc41"
            ],
            [
             0.9,
             "#4d9221"
            ],
            [
             1,
             "#276419"
            ]
           ],
           "sequential": [
            [
             0,
             "#0d0887"
            ],
            [
             0.1111111111111111,
             "#46039f"
            ],
            [
             0.2222222222222222,
             "#7201a8"
            ],
            [
             0.3333333333333333,
             "#9c179e"
            ],
            [
             0.4444444444444444,
             "#bd3786"
            ],
            [
             0.5555555555555556,
             "#d8576b"
            ],
            [
             0.6666666666666666,
             "#ed7953"
            ],
            [
             0.7777777777777778,
             "#fb9f3a"
            ],
            [
             0.8888888888888888,
             "#fdca26"
            ],
            [
             1,
             "#f0f921"
            ]
           ],
           "sequentialminus": [
            [
             0,
             "#0d0887"
            ],
            [
             0.1111111111111111,
             "#46039f"
            ],
            [
             0.2222222222222222,
             "#7201a8"
            ],
            [
             0.3333333333333333,
             "#9c179e"
            ],
            [
             0.4444444444444444,
             "#bd3786"
            ],
            [
             0.5555555555555556,
             "#d8576b"
            ],
            [
             0.6666666666666666,
             "#ed7953"
            ],
            [
             0.7777777777777778,
             "#fb9f3a"
            ],
            [
             0.8888888888888888,
             "#fdca26"
            ],
            [
             1,
             "#f0f921"
            ]
           ]
          },
          "colorway": [
           "#636efa",
           "#EF553B",
           "#00cc96",
           "#ab63fa",
           "#FFA15A",
           "#19d3f3",
           "#FF6692",
           "#B6E880",
           "#FF97FF",
           "#FECB52"
          ],
          "font": {
           "color": "#f2f5fa"
          },
          "geo": {
           "bgcolor": "rgb(17,17,17)",
           "lakecolor": "rgb(17,17,17)",
           "landcolor": "rgb(17,17,17)",
           "showlakes": true,
           "showland": true,
           "subunitcolor": "#506784"
          },
          "hoverlabel": {
           "align": "left"
          },
          "hovermode": "closest",
          "mapbox": {
           "style": "dark"
          },
          "paper_bgcolor": "rgb(17,17,17)",
          "plot_bgcolor": "rgb(17,17,17)",
          "polar": {
           "angularaxis": {
            "gridcolor": "#506784",
            "linecolor": "#506784",
            "ticks": ""
           },
           "bgcolor": "rgb(17,17,17)",
           "radialaxis": {
            "gridcolor": "#506784",
            "linecolor": "#506784",
            "ticks": ""
           }
          },
          "scene": {
           "xaxis": {
            "backgroundcolor": "rgb(17,17,17)",
            "gridcolor": "#506784",
            "gridwidth": 2,
            "linecolor": "#506784",
            "showbackground": true,
            "ticks": "",
            "zerolinecolor": "#C8D4E3"
           },
           "yaxis": {
            "backgroundcolor": "rgb(17,17,17)",
            "gridcolor": "#506784",
            "gridwidth": 2,
            "linecolor": "#506784",
            "showbackground": true,
            "ticks": "",
            "zerolinecolor": "#C8D4E3"
           },
           "zaxis": {
            "backgroundcolor": "rgb(17,17,17)",
            "gridcolor": "#506784",
            "gridwidth": 2,
            "linecolor": "#506784",
            "showbackground": true,
            "ticks": "",
            "zerolinecolor": "#C8D4E3"
           }
          },
          "shapedefaults": {
           "line": {
            "color": "#f2f5fa"
           }
          },
          "sliderdefaults": {
           "bgcolor": "#C8D4E3",
           "bordercolor": "rgb(17,17,17)",
           "borderwidth": 1,
           "tickwidth": 0
          },
          "ternary": {
           "aaxis": {
            "gridcolor": "#506784",
            "linecolor": "#506784",
            "ticks": ""
           },
           "baxis": {
            "gridcolor": "#506784",
            "linecolor": "#506784",
            "ticks": ""
           },
           "bgcolor": "rgb(17,17,17)",
           "caxis": {
            "gridcolor": "#506784",
            "linecolor": "#506784",
            "ticks": ""
           }
          },
          "title": {
           "x": 0.05
          },
          "updatemenudefaults": {
           "bgcolor": "#506784",
           "borderwidth": 0
          },
          "xaxis": {
           "automargin": true,
           "gridcolor": "#283442",
           "linecolor": "#506784",
           "ticks": "",
           "title": {
            "standoff": 15
           },
           "zerolinecolor": "#283442",
           "zerolinewidth": 2
          },
          "yaxis": {
           "automargin": true,
           "gridcolor": "#283442",
           "linecolor": "#506784",
           "ticks": "",
           "title": {
            "standoff": 15
           },
           "zerolinecolor": "#283442",
           "zerolinewidth": 2
          }
         }
        }
       }
      },
      "text/html": [
       "<div>                            <div id=\"5e403dbb-7a8e-4b83-a9b9-2a3bd6d6dabb\" class=\"plotly-graph-div\" style=\"height:525px; width:100%;\"></div>            <script type=\"text/javascript\">                require([\"plotly\"], function(Plotly) {                    window.PLOTLYENV=window.PLOTLYENV || {};                                    if (document.getElementById(\"5e403dbb-7a8e-4b83-a9b9-2a3bd6d6dabb\")) {                    Plotly.newPlot(                        \"5e403dbb-7a8e-4b83-a9b9-2a3bd6d6dabb\",                        [{\"customdata\":[[\"US\",35096687,0.0,612961],[\"India\",31655824,30820521.0,424351],[\"Brazil\",19922146,17771228.0,556676],[\"France\",6190621,413170.0,112061],[\"Russia\",6185249,5539787.0,155952],[\"United Kingdom\",5883421,20928.0,129949],[\"Turkey\",5727045,5454360.0,51332],[\"Argentina\",4929764,4569552.0,105721],[\"Colombia\",4785320,4578519.0,120723],[\"Spain\",4447044,150376.0,81486],[\"Italy\",4350028,4134680.0,128063],[\"Iran\",3871008,3367272.0,90630],[\"Germany\",3776724,3653150.0,91666],[\"Indonesia\",3409658,2770092.0,94119],[\"Poland\",2882939,2653700.0,75261],[\"Mexico\",2848252,2215884.0,240906],[\"South Africa\",2447454,2222338.0,72013],[\"Ukraine\",2333409,2255695.0,55556],[\"Peru\",2111393,2078316.0,196353],[\"Netherlands\",1895343,28329.0,18114],[\"Czechia\",1673576,1640314.0,30373],[\"Iraq\",1626599,1464273.0,18657],[\"Chile\",1615771,1570492.0,35448],[\"Philippines\",1588965,1500189.0,27889],[\"Canada\",1431027,1404107.0,26599],[\"Bangladesh\",1249484,1078212.0,20685],[\"Belgium\",1124715,0.0,25241],[\"Malaysia\",1113272,914637.0,9024],[\"Sweden\",1100040,0.0,14655],[\"Romania\",1083189,1047723.0,34281],[\"Pakistan\",1034837,941659.0,23422],[\"Portugal\",968631,902014.0,17361],[\"Japan\",926604,834811.0,15191],[\"Israel\",874018,849013.0,6473],[\"Hungary\",809491,748157.0,30026],[\"Slovakia\",776444,255300.0,12540],[\"Jordan\",770712,750518.0,10032],[\"Serbia\",721918,0.0,7114],[\"Switzerland\",717665,317600.0,10793],[\"Nepal\",695389,654177.0,9857],[\"United Arab Emirates\",680858,658198.0,1949],[\"Austria\",659056,643027.0,10737],[\"Kazakhstan\",633469,527894.0,9077],[\"Morocco\",623528,561930.0,9785],[\"Thailand\",597287,26873.0,4857],[\"Tunisia\",589565,510696.0,19686],[\"Lebanon\",561380,537111.0,7906],[\"Saudi Arabia\",525730,506089.0,8237],[\"Greece\",493304,93764.0,12965],[\"Ecuador\",487372,443880.0,31631],[\"Bolivia\",473506,407932.0,17821],[\"Paraguay\",452388,420031.0,14981],[\"Belarus\",446040,440200.0,3454],[\"Panama\",435655,416263.0,6823],[\"Bulgaria\",425054,398545.0,18213],[\"Georgia\",419534,382393.0,5820],[\"Costa Rica\",406814,329639.0,5030],[\"Kuwait\",397831,384062.0,2320],[\"Cuba\",384596,338968.0,2758],[\"Uruguay\",381517,373481.0,5964],[\"Guatemala\",368484,321832.0,10339],[\"Croatia\",363615,354238.0,8259],[\"Azerbaijan\",343849,332926.0,5023],[\"Dominican Republic\",341905,323333.0,3963],[\"Denmark\",317909,304203.0,2551],[\"West Bank and Gaza\",316738,311832.0,3603],[\"Sri Lanka\",308812,277118.0,4436],[\"Venezuela\",305766,290181.0,3591],[\"Ireland\",300976,23364.0,5035],[\"Burma\",299185,209512.0,9334],[\"Honduras\",297111,100697.0,7834],[\"Oman\",295857,278195.0,3814],[\"Egypt\",284262,230368.0,16524],[\"Lithuania\",282818,269309.0,4415],[\"Ethiopia\",280365,263500.0,4385],[\"Bahrain\",269186,266796.0,1384],[\"Moldova\",259478,252051.0,6255],[\"Slovenia\",259215,253742.0,4429],[\"Libya\",249114,190978.0,3509],[\"Armenia\",230110,219864.0,4614],[\"Qatar\",226239,223732.0,601],[\"Bosnia and Herzegovina\",205655,189369.0,9687],[\"Kenya\",203213,188936.0,3931],[\"Korea, South\",199787,175674.0,2098],[\"Zambia\",195816,187236.0,3389],[\"Nigeria\",173908,164994.0,2149],[\"Algeria\",171392,115276.0,4254],[\"Mongolia\",165147,164829.0,815],[\"Kyrgyzstan\",162892,144564.0,2325],[\"North Macedonia\",156380,150362.0,5493],[\"Vietnam\",150060,38734.0,1306],[\"Afghanistan\",147154,82586.0,6708],[\"Latvia\",138863,135583.0,2556],[\"Norway\",137627,17998.0,799],[\"Estonia\",133557,128898.0,1272],[\"Albania\",133081,130222.0,2457],[\"Uzbekistan\",129327,123164.0,874],[\"Mozambique\",122028,88380.0,1434],[\"Namibia\",118922,95250.0,3044],[\"Zimbabwe\",108860,75856.0,3532],[\"Kosovo\",108365,105657.0,2269],[\"Finland\",107458,46000.0,1005],[\"Botswana\",106690,95323.0,1569],[\"China\",105050,99119.0,4848],[\"Ghana\",103019,97213.0,823],[\"Cyprus\",102926,39061.0,420],[\"Montenegro\",101927,98971.0,1630],[\"Uganda\",93927,83115.0,2690],[\"El Salvador\",86620,76265.0,2629],[\"Cameroon\",82064,35261.0,1334],[\"Maldives\",77432,74598.0,221],[\"Cambodia\",77243,69996.0,1397],[\"Luxembourg\",73870,71867.0,822],[\"Rwanda\",70698,44837.0,808],[\"Singapore\",64981,62863.0,37],[\"Senegal\",62290,47136.0,1353],[\"Jamaica\",52895,46979.0,1190],[\"Malawi\",52347,38005.0,1635],[\"Cote d'Ivoire\",50135,49261.0,329],[\"Congo (Kinshasa)\",49917,29994.0,1038],[\"Angola\",42777,37255.0,1011],[\"Madagascar\",42663,41143.0,943],[\"Trinidad and Tobago\",38811,31783.0,1070],[\"Sudan\",37138,30647.0,2776],[\"Australia\",34383,24093.0,924],[\"Malta\",34295,31629.0,423],[\"Cabo Verde\",33791,33011.0,298],[\"Fiji\",29781,7705.0,238],[\"Eswatini\",25979,20918.0,787],[\"Syria\",25963,21987.0,1914],[\"Mauritania\",25691,22228.0,562],[\"Guinea\",25688,24148.0,220],[\"Gabon\",25384,25166.0,164],[\"Suriname\",25351,21700.0,649],[\"Guyana\",22523,21183.0,541],[\"Haiti\",20077,12961.0,545],[\"Seychelles\",18328,17538.0,79],[\"Papua New Guinea\",17717,17324.0,192],[\"Togo\",15798,14450.0,152],[\"Taiwan*\",15674,12856.0,787],[\"Tajikistan\",15482,14556.0,122],[\"Somalia\",15403,7533.0,811],[\"Bahamas\",14840,12606.0,287],[\"Andorra\",14678,14210.0,128],[\"Mali\",14584,13945.0,532],[\"Belize\",14163,13420.0,337],[\"Burkina Faso\",13573,13369.0,169],[\"Congo (Brazzaville)\",13186,12421.0,178],[\"Lesotho\",12908,6649.0,374],[\"Djibouti\",11651,11490.0,156],[\"South Sudan\",11049,10514.0,119],[\"Timor-Leste\",10898,9889.0,26],[\"Nicaragua\",9470,4225.0,195],[\"Equatorial Guinea\",8880,8637.0,123],[\"Benin\",8394,8136.0,108],[\"Iceland\",7959,6716.0,30],[\"Gambia\",7709,6600.0,212],[\"Central African Republic\",7151,6859.0,98],[\"Burundi\",7080,773.0,9],[\"Yemen\",7061,4185.0,1375],[\"Eritrea\",6547,6444.0,35],[\"Laos\",6299,2804.0,7],[\"Sierra Leone\",6283,4270.0,120],[\"Niger\",5623,5342.0,195],[\"Saint Lucia\",5610,5377.0,89],[\"Liberia\",5404,2715.0,148],[\"San Marino\",5143,5005.0,90],[\"Chad\",4973,4792.0,174],[\"Guinea-Bissau\",4479,3929.0,76],[\"Barbados\",4390,4229.0,48],[\"Mauritius\",4214,1854.0,20],[\"Comoros\",4028,3865.0,147],[\"Liechtenstein\",3187,3009.0,58],[\"Monaco\",2889,2707.0,33],[\"New Zealand\",2874,2811.0,26],[\"Bhutan\",2515,2374.0,2],[\"Sao Tome and Principe\",2454,2358.0,37],[\"Saint Vincent and the Grenadines\",2291,2229.0,12],[\"Antigua and Barbuda\",1303,1235.0,43],[\"Tanzania\",1017,183.0,21],[\"Diamond Princess\",712,699.0,13],[\"Saint Kitts and Nevis\",593,544.0,3],[\"Brunei\",337,280.0,3],[\"Summer Olympics 2020\",246,0.0,0],[\"Dominica\",210,200.0,0],[\"Grenada\",164,161.0,1],[\"Holy See\",27,27.0,0],[\"Solomon Islands\",20,20.0,0],[\"MS Zaandam\",9,7.0,2],[\"Marshall Islands\",4,4.0,0],[\"Vanuatu\",4,3.0,1],[\"Samoa\",3,3.0,0],[\"Kiribati\",2,0.0,0],[\"Micronesia\",1,1.0,0],[\"Tonga\",0,0.0,0],[\"Palau\",0,0.0,0],[\"Antarctica\",0,0.0,0],[\"Winter Olympics 2022\",0,0.0,0]],\"geo\":\"geo\",\"hovertemplate\":\"<b>%{hovertext}</b><br><br>Confirmed=%{marker.color:,}<br>Recovered=%{customdata[2]:,}<br>Deaths=%{customdata[3]:,}<extra></extra>\",\"hovertext\":[\"US\",\"India\",\"Brazil\",\"France\",\"Russia\",\"United Kingdom\",\"Turkey\",\"Argentina\",\"Colombia\",\"Spain\",\"Italy\",\"Iran\",\"Germany\",\"Indonesia\",\"Poland\",\"Mexico\",\"South Africa\",\"Ukraine\",\"Peru\",\"Netherlands\",\"Czechia\",\"Iraq\",\"Chile\",\"Philippines\",\"Canada\",\"Bangladesh\",\"Belgium\",\"Malaysia\",\"Sweden\",\"Romania\",\"Pakistan\",\"Portugal\",\"Japan\",\"Israel\",\"Hungary\",\"Slovakia\",\"Jordan\",\"Serbia\",\"Switzerland\",\"Nepal\",\"United Arab Emirates\",\"Austria\",\"Kazakhstan\",\"Morocco\",\"Thailand\",\"Tunisia\",\"Lebanon\",\"Saudi Arabia\",\"Greece\",\"Ecuador\",\"Bolivia\",\"Paraguay\",\"Belarus\",\"Panama\",\"Bulgaria\",\"Georgia\",\"Costa Rica\",\"Kuwait\",\"Cuba\",\"Uruguay\",\"Guatemala\",\"Croatia\",\"Azerbaijan\",\"Dominican Republic\",\"Denmark\",\"West Bank and Gaza\",\"Sri Lanka\",\"Venezuela\",\"Ireland\",\"Burma\",\"Honduras\",\"Oman\",\"Egypt\",\"Lithuania\",\"Ethiopia\",\"Bahrain\",\"Moldova\",\"Slovenia\",\"Libya\",\"Armenia\",\"Qatar\",\"Bosnia and Herzegovina\",\"Kenya\",\"Korea, South\",\"Zambia\",\"Nigeria\",\"Algeria\",\"Mongolia\",\"Kyrgyzstan\",\"North Macedonia\",\"Vietnam\",\"Afghanistan\",\"Latvia\",\"Norway\",\"Estonia\",\"Albania\",\"Uzbekistan\",\"Mozambique\",\"Namibia\",\"Zimbabwe\",\"Kosovo\",\"Finland\",\"Botswana\",\"China\",\"Ghana\",\"Cyprus\",\"Montenegro\",\"Uganda\",\"El Salvador\",\"Cameroon\",\"Maldives\",\"Cambodia\",\"Luxembourg\",\"Rwanda\",\"Singapore\",\"Senegal\",\"Jamaica\",\"Malawi\",\"Cote d'Ivoire\",\"Congo (Kinshasa)\",\"Angola\",\"Madagascar\",\"Trinidad and Tobago\",\"Sudan\",\"Australia\",\"Malta\",\"Cabo Verde\",\"Fiji\",\"Eswatini\",\"Syria\",\"Mauritania\",\"Guinea\",\"Gabon\",\"Suriname\",\"Guyana\",\"Haiti\",\"Seychelles\",\"Papua New Guinea\",\"Togo\",\"Taiwan*\",\"Tajikistan\",\"Somalia\",\"Bahamas\",\"Andorra\",\"Mali\",\"Belize\",\"Burkina Faso\",\"Congo (Brazzaville)\",\"Lesotho\",\"Djibouti\",\"South Sudan\",\"Timor-Leste\",\"Nicaragua\",\"Equatorial Guinea\",\"Benin\",\"Iceland\",\"Gambia\",\"Central African Republic\",\"Burundi\",\"Yemen\",\"Eritrea\",\"Laos\",\"Sierra Leone\",\"Niger\",\"Saint Lucia\",\"Liberia\",\"San Marino\",\"Chad\",\"Guinea-Bissau\",\"Barbados\",\"Mauritius\",\"Comoros\",\"Liechtenstein\",\"Monaco\",\"New Zealand\",\"Bhutan\",\"Sao Tome and Principe\",\"Saint Vincent and the Grenadines\",\"Antigua and Barbuda\",\"Tanzania\",\"Diamond Princess\",\"Saint Kitts and Nevis\",\"Brunei\",\"Summer Olympics 2020\",\"Dominica\",\"Grenada\",\"Holy See\",\"Solomon Islands\",\"MS Zaandam\",\"Marshall Islands\",\"Vanuatu\",\"Samoa\",\"Kiribati\",\"Micronesia\",\"Tonga\",\"Palau\",\"Antarctica\",\"Winter Olympics 2022\"],\"legendgroup\":\"\",\"locationmode\":\"country names\",\"locations\":[\"US\",\"India\",\"Brazil\",\"France\",\"Russia\",\"United Kingdom\",\"Turkey\",\"Argentina\",\"Colombia\",\"Spain\",\"Italy\",\"Iran\",\"Germany\",\"Indonesia\",\"Poland\",\"Mexico\",\"South Africa\",\"Ukraine\",\"Peru\",\"Netherlands\",\"Czechia\",\"Iraq\",\"Chile\",\"Philippines\",\"Canada\",\"Bangladesh\",\"Belgium\",\"Malaysia\",\"Sweden\",\"Romania\",\"Pakistan\",\"Portugal\",\"Japan\",\"Israel\",\"Hungary\",\"Slovakia\",\"Jordan\",\"Serbia\",\"Switzerland\",\"Nepal\",\"United Arab Emirates\",\"Austria\",\"Kazakhstan\",\"Morocco\",\"Thailand\",\"Tunisia\",\"Lebanon\",\"Saudi Arabia\",\"Greece\",\"Ecuador\",\"Bolivia\",\"Paraguay\",\"Belarus\",\"Panama\",\"Bulgaria\",\"Georgia\",\"Costa Rica\",\"Kuwait\",\"Cuba\",\"Uruguay\",\"Guatemala\",\"Croatia\",\"Azerbaijan\",\"Dominican Republic\",\"Denmark\",\"West Bank and Gaza\",\"Sri Lanka\",\"Venezuela\",\"Ireland\",\"Burma\",\"Honduras\",\"Oman\",\"Egypt\",\"Lithuania\",\"Ethiopia\",\"Bahrain\",\"Moldova\",\"Slovenia\",\"Libya\",\"Armenia\",\"Qatar\",\"Bosnia and Herzegovina\",\"Kenya\",\"Korea, South\",\"Zambia\",\"Nigeria\",\"Algeria\",\"Mongolia\",\"Kyrgyzstan\",\"North Macedonia\",\"Vietnam\",\"Afghanistan\",\"Latvia\",\"Norway\",\"Estonia\",\"Albania\",\"Uzbekistan\",\"Mozambique\",\"Namibia\",\"Zimbabwe\",\"Kosovo\",\"Finland\",\"Botswana\",\"China\",\"Ghana\",\"Cyprus\",\"Montenegro\",\"Uganda\",\"El Salvador\",\"Cameroon\",\"Maldives\",\"Cambodia\",\"Luxembourg\",\"Rwanda\",\"Singapore\",\"Senegal\",\"Jamaica\",\"Malawi\",\"Cote d'Ivoire\",\"Congo (Kinshasa)\",\"Angola\",\"Madagascar\",\"Trinidad and Tobago\",\"Sudan\",\"Australia\",\"Malta\",\"Cabo Verde\",\"Fiji\",\"Eswatini\",\"Syria\",\"Mauritania\",\"Guinea\",\"Gabon\",\"Suriname\",\"Guyana\",\"Haiti\",\"Seychelles\",\"Papua New Guinea\",\"Togo\",\"Taiwan*\",\"Tajikistan\",\"Somalia\",\"Bahamas\",\"Andorra\",\"Mali\",\"Belize\",\"Burkina Faso\",\"Congo (Brazzaville)\",\"Lesotho\",\"Djibouti\",\"South Sudan\",\"Timor-Leste\",\"Nicaragua\",\"Equatorial Guinea\",\"Benin\",\"Iceland\",\"Gambia\",\"Central African Republic\",\"Burundi\",\"Yemen\",\"Eritrea\",\"Laos\",\"Sierra Leone\",\"Niger\",\"Saint Lucia\",\"Liberia\",\"San Marino\",\"Chad\",\"Guinea-Bissau\",\"Barbados\",\"Mauritius\",\"Comoros\",\"Liechtenstein\",\"Monaco\",\"New Zealand\",\"Bhutan\",\"Sao Tome and Principe\",\"Saint Vincent and the Grenadines\",\"Antigua and Barbuda\",\"Tanzania\",\"Diamond Princess\",\"Saint Kitts and Nevis\",\"Brunei\",\"Summer Olympics 2020\",\"Dominica\",\"Grenada\",\"Holy See\",\"Solomon Islands\",\"MS Zaandam\",\"Marshall Islands\",\"Vanuatu\",\"Samoa\",\"Kiribati\",\"Micronesia\",\"Tonga\",\"Palau\",\"Antarctica\",\"Winter Olympics 2022\"],\"marker\":{\"color\":[35096687,31655824,19922146,6190621,6185249,5883421,5727045,4929764,4785320,4447044,4350028,3871008,3776724,3409658,2882939,2848252,2447454,2333409,2111393,1895343,1673576,1626599,1615771,1588965,1431027,1249484,1124715,1113272,1100040,1083189,1034837,968631,926604,874018,809491,776444,770712,721918,717665,695389,680858,659056,633469,623528,597287,589565,561380,525730,493304,487372,473506,452388,446040,435655,425054,419534,406814,397831,384596,381517,368484,363615,343849,341905,317909,316738,308812,305766,300976,299185,297111,295857,284262,282818,280365,269186,259478,259215,249114,230110,226239,205655,203213,199787,195816,173908,171392,165147,162892,156380,150060,147154,138863,137627,133557,133081,129327,122028,118922,108860,108365,107458,106690,105050,103019,102926,101927,93927,86620,82064,77432,77243,73870,70698,64981,62290,52895,52347,50135,49917,42777,42663,38811,37138,34383,34295,33791,29781,25979,25963,25691,25688,25384,25351,22523,20077,18328,17717,15798,15674,15482,15403,14840,14678,14584,14163,13573,13186,12908,11651,11049,10898,9470,8880,8394,7959,7709,7151,7080,7061,6547,6299,6283,5623,5610,5404,5143,4973,4479,4390,4214,4028,3187,2889,2874,2515,2454,2291,1303,1017,712,593,337,246,210,164,27,20,9,4,4,3,2,1,0,0,0,0],\"coloraxis\":\"coloraxis\",\"size\":[35096687,31655824,19922146,6190621,6185249,5883421,5727045,4929764,4785320,4447044,4350028,3871008,3776724,3409658,2882939,2848252,2447454,2333409,2111393,1895343,1673576,1626599,1615771,1588965,1431027,1249484,1124715,1113272,1100040,1083189,1034837,968631,926604,874018,809491,776444,770712,721918,717665,695389,680858,659056,633469,623528,597287,589565,561380,525730,493304,487372,473506,452388,446040,435655,425054,419534,406814,397831,384596,381517,368484,363615,343849,341905,317909,316738,308812,305766,300976,299185,297111,295857,284262,282818,280365,269186,259478,259215,249114,230110,226239,205655,203213,199787,195816,173908,171392,165147,162892,156380,150060,147154,138863,137627,133557,133081,129327,122028,118922,108860,108365,107458,106690,105050,103019,102926,101927,93927,86620,82064,77432,77243,73870,70698,64981,62290,52895,52347,50135,49917,42777,42663,38811,37138,34383,34295,33791,29781,25979,25963,25691,25688,25384,25351,22523,20077,18328,17717,15798,15674,15482,15403,14840,14678,14584,14163,13573,13186,12908,11651,11049,10898,9470,8880,8394,7959,7709,7151,7080,7061,6547,6299,6283,5623,5610,5404,5143,4973,4479,4390,4214,4028,3187,2889,2874,2515,2454,2291,1303,1017,712,593,337,246,210,164,27,20,9,4,4,3,2,1,0,0,0,0],\"sizemode\":\"area\",\"sizeref\":21935.429375,\"symbol\":\"circle\"},\"mode\":\"markers\",\"name\":\"\",\"showlegend\":false,\"type\":\"scattergeo\"}],                        {\"template\":{\"data\":{\"barpolar\":[{\"marker\":{\"line\":{\"color\":\"rgb(17,17,17)\",\"width\":0.5},\"pattern\":{\"fillmode\":\"overlay\",\"size\":10,\"solidity\":0.2}},\"type\":\"barpolar\"}],\"bar\":[{\"error_x\":{\"color\":\"#f2f5fa\"},\"error_y\":{\"color\":\"#f2f5fa\"},\"marker\":{\"line\":{\"color\":\"rgb(17,17,17)\",\"width\":0.5},\"pattern\":{\"fillmode\":\"overlay\",\"size\":10,\"solidity\":0.2}},\"type\":\"bar\"}],\"carpet\":[{\"aaxis\":{\"endlinecolor\":\"#A2B1C6\",\"gridcolor\":\"#506784\",\"linecolor\":\"#506784\",\"minorgridcolor\":\"#506784\",\"startlinecolor\":\"#A2B1C6\"},\"baxis\":{\"endlinecolor\":\"#A2B1C6\",\"gridcolor\":\"#506784\",\"linecolor\":\"#506784\",\"minorgridcolor\":\"#506784\",\"startlinecolor\":\"#A2B1C6\"},\"type\":\"carpet\"}],\"choropleth\":[{\"colorbar\":{\"outlinewidth\":0,\"ticks\":\"\"},\"type\":\"choropleth\"}],\"contourcarpet\":[{\"colorbar\":{\"outlinewidth\":0,\"ticks\":\"\"},\"type\":\"contourcarpet\"}],\"contour\":[{\"colorbar\":{\"outlinewidth\":0,\"ticks\":\"\"},\"colorscale\":[[0.0,\"#0d0887\"],[0.1111111111111111,\"#46039f\"],[0.2222222222222222,\"#7201a8\"],[0.3333333333333333,\"#9c179e\"],[0.4444444444444444,\"#bd3786\"],[0.5555555555555556,\"#d8576b\"],[0.6666666666666666,\"#ed7953\"],[0.7777777777777778,\"#fb9f3a\"],[0.8888888888888888,\"#fdca26\"],[1.0,\"#f0f921\"]],\"type\":\"contour\"}],\"heatmapgl\":[{\"colorbar\":{\"outlinewidth\":0,\"ticks\":\"\"},\"colorscale\":[[0.0,\"#0d0887\"],[0.1111111111111111,\"#46039f\"],[0.2222222222222222,\"#7201a8\"],[0.3333333333333333,\"#9c179e\"],[0.4444444444444444,\"#bd3786\"],[0.5555555555555556,\"#d8576b\"],[0.6666666666666666,\"#ed7953\"],[0.7777777777777778,\"#fb9f3a\"],[0.8888888888888888,\"#fdca26\"],[1.0,\"#f0f921\"]],\"type\":\"heatmapgl\"}],\"heatmap\":[{\"colorbar\":{\"outlinewidth\":0,\"ticks\":\"\"},\"colorscale\":[[0.0,\"#0d0887\"],[0.1111111111111111,\"#46039f\"],[0.2222222222222222,\"#7201a8\"],[0.3333333333333333,\"#9c179e\"],[0.4444444444444444,\"#bd3786\"],[0.5555555555555556,\"#d8576b\"],[0.6666666666666666,\"#ed7953\"],[0.7777777777777778,\"#fb9f3a\"],[0.8888888888888888,\"#fdca26\"],[1.0,\"#f0f921\"]],\"type\":\"heatmap\"}],\"histogram2dcontour\":[{\"colorbar\":{\"outlinewidth\":0,\"ticks\":\"\"},\"colorscale\":[[0.0,\"#0d0887\"],[0.1111111111111111,\"#46039f\"],[0.2222222222222222,\"#7201a8\"],[0.3333333333333333,\"#9c179e\"],[0.4444444444444444,\"#bd3786\"],[0.5555555555555556,\"#d8576b\"],[0.6666666666666666,\"#ed7953\"],[0.7777777777777778,\"#fb9f3a\"],[0.8888888888888888,\"#fdca26\"],[1.0,\"#f0f921\"]],\"type\":\"histogram2dcontour\"}],\"histogram2d\":[{\"colorbar\":{\"outlinewidth\":0,\"ticks\":\"\"},\"colorscale\":[[0.0,\"#0d0887\"],[0.1111111111111111,\"#46039f\"],[0.2222222222222222,\"#7201a8\"],[0.3333333333333333,\"#9c179e\"],[0.4444444444444444,\"#bd3786\"],[0.5555555555555556,\"#d8576b\"],[0.6666666666666666,\"#ed7953\"],[0.7777777777777778,\"#fb9f3a\"],[0.8888888888888888,\"#fdca26\"],[1.0,\"#f0f921\"]],\"type\":\"histogram2d\"}],\"histogram\":[{\"marker\":{\"pattern\":{\"fillmode\":\"overlay\",\"size\":10,\"solidity\":0.2}},\"type\":\"histogram\"}],\"mesh3d\":[{\"colorbar\":{\"outlinewidth\":0,\"ticks\":\"\"},\"type\":\"mesh3d\"}],\"parcoords\":[{\"line\":{\"colorbar\":{\"outlinewidth\":0,\"ticks\":\"\"}},\"type\":\"parcoords\"}],\"pie\":[{\"automargin\":true,\"type\":\"pie\"}],\"scatter3d\":[{\"line\":{\"colorbar\":{\"outlinewidth\":0,\"ticks\":\"\"}},\"marker\":{\"colorbar\":{\"outlinewidth\":0,\"ticks\":\"\"}},\"type\":\"scatter3d\"}],\"scattercarpet\":[{\"marker\":{\"colorbar\":{\"outlinewidth\":0,\"ticks\":\"\"}},\"type\":\"scattercarpet\"}],\"scattergeo\":[{\"marker\":{\"colorbar\":{\"outlinewidth\":0,\"ticks\":\"\"}},\"type\":\"scattergeo\"}],\"scattergl\":[{\"marker\":{\"line\":{\"color\":\"#283442\"}},\"type\":\"scattergl\"}],\"scattermapbox\":[{\"marker\":{\"colorbar\":{\"outlinewidth\":0,\"ticks\":\"\"}},\"type\":\"scattermapbox\"}],\"scatterpolargl\":[{\"marker\":{\"colorbar\":{\"outlinewidth\":0,\"ticks\":\"\"}},\"type\":\"scatterpolargl\"}],\"scatterpolar\":[{\"marker\":{\"colorbar\":{\"outlinewidth\":0,\"ticks\":\"\"}},\"type\":\"scatterpolar\"}],\"scatter\":[{\"marker\":{\"line\":{\"color\":\"#283442\"}},\"type\":\"scatter\"}],\"scatterternary\":[{\"marker\":{\"colorbar\":{\"outlinewidth\":0,\"ticks\":\"\"}},\"type\":\"scatterternary\"}],\"surface\":[{\"colorbar\":{\"outlinewidth\":0,\"ticks\":\"\"},\"colorscale\":[[0.0,\"#0d0887\"],[0.1111111111111111,\"#46039f\"],[0.2222222222222222,\"#7201a8\"],[0.3333333333333333,\"#9c179e\"],[0.4444444444444444,\"#bd3786\"],[0.5555555555555556,\"#d8576b\"],[0.6666666666666666,\"#ed7953\"],[0.7777777777777778,\"#fb9f3a\"],[0.8888888888888888,\"#fdca26\"],[1.0,\"#f0f921\"]],\"type\":\"surface\"}],\"table\":[{\"cells\":{\"fill\":{\"color\":\"#506784\"},\"line\":{\"color\":\"rgb(17,17,17)\"}},\"header\":{\"fill\":{\"color\":\"#2a3f5f\"},\"line\":{\"color\":\"rgb(17,17,17)\"}},\"type\":\"table\"}]},\"layout\":{\"annotationdefaults\":{\"arrowcolor\":\"#f2f5fa\",\"arrowhead\":0,\"arrowwidth\":1},\"autotypenumbers\":\"strict\",\"coloraxis\":{\"colorbar\":{\"outlinewidth\":0,\"ticks\":\"\"}},\"colorscale\":{\"diverging\":[[0,\"#8e0152\"],[0.1,\"#c51b7d\"],[0.2,\"#de77ae\"],[0.3,\"#f1b6da\"],[0.4,\"#fde0ef\"],[0.5,\"#f7f7f7\"],[0.6,\"#e6f5d0\"],[0.7,\"#b8e186\"],[0.8,\"#7fbc41\"],[0.9,\"#4d9221\"],[1,\"#276419\"]],\"sequential\":[[0.0,\"#0d0887\"],[0.1111111111111111,\"#46039f\"],[0.2222222222222222,\"#7201a8\"],[0.3333333333333333,\"#9c179e\"],[0.4444444444444444,\"#bd3786\"],[0.5555555555555556,\"#d8576b\"],[0.6666666666666666,\"#ed7953\"],[0.7777777777777778,\"#fb9f3a\"],[0.8888888888888888,\"#fdca26\"],[1.0,\"#f0f921\"]],\"sequentialminus\":[[0.0,\"#0d0887\"],[0.1111111111111111,\"#46039f\"],[0.2222222222222222,\"#7201a8\"],[0.3333333333333333,\"#9c179e\"],[0.4444444444444444,\"#bd3786\"],[0.5555555555555556,\"#d8576b\"],[0.6666666666666666,\"#ed7953\"],[0.7777777777777778,\"#fb9f3a\"],[0.8888888888888888,\"#fdca26\"],[1.0,\"#f0f921\"]]},\"colorway\":[\"#636efa\",\"#EF553B\",\"#00cc96\",\"#ab63fa\",\"#FFA15A\",\"#19d3f3\",\"#FF6692\",\"#B6E880\",\"#FF97FF\",\"#FECB52\"],\"font\":{\"color\":\"#f2f5fa\"},\"geo\":{\"bgcolor\":\"rgb(17,17,17)\",\"lakecolor\":\"rgb(17,17,17)\",\"landcolor\":\"rgb(17,17,17)\",\"showlakes\":true,\"showland\":true,\"subunitcolor\":\"#506784\"},\"hoverlabel\":{\"align\":\"left\"},\"hovermode\":\"closest\",\"mapbox\":{\"style\":\"dark\"},\"paper_bgcolor\":\"rgb(17,17,17)\",\"plot_bgcolor\":\"rgb(17,17,17)\",\"polar\":{\"angularaxis\":{\"gridcolor\":\"#506784\",\"linecolor\":\"#506784\",\"ticks\":\"\"},\"bgcolor\":\"rgb(17,17,17)\",\"radialaxis\":{\"gridcolor\":\"#506784\",\"linecolor\":\"#506784\",\"ticks\":\"\"}},\"scene\":{\"xaxis\":{\"backgroundcolor\":\"rgb(17,17,17)\",\"gridcolor\":\"#506784\",\"gridwidth\":2,\"linecolor\":\"#506784\",\"showbackground\":true,\"ticks\":\"\",\"zerolinecolor\":\"#C8D4E3\"},\"yaxis\":{\"backgroundcolor\":\"rgb(17,17,17)\",\"gridcolor\":\"#506784\",\"gridwidth\":2,\"linecolor\":\"#506784\",\"showbackground\":true,\"ticks\":\"\",\"zerolinecolor\":\"#C8D4E3\"},\"zaxis\":{\"backgroundcolor\":\"rgb(17,17,17)\",\"gridcolor\":\"#506784\",\"gridwidth\":2,\"linecolor\":\"#506784\",\"showbackground\":true,\"ticks\":\"\",\"zerolinecolor\":\"#C8D4E3\"}},\"shapedefaults\":{\"line\":{\"color\":\"#f2f5fa\"}},\"sliderdefaults\":{\"bgcolor\":\"#C8D4E3\",\"bordercolor\":\"rgb(17,17,17)\",\"borderwidth\":1,\"tickwidth\":0},\"ternary\":{\"aaxis\":{\"gridcolor\":\"#506784\",\"linecolor\":\"#506784\",\"ticks\":\"\"},\"baxis\":{\"gridcolor\":\"#506784\",\"linecolor\":\"#506784\",\"ticks\":\"\"},\"bgcolor\":\"rgb(17,17,17)\",\"caxis\":{\"gridcolor\":\"#506784\",\"linecolor\":\"#506784\",\"ticks\":\"\"}},\"title\":{\"x\":0.05},\"updatemenudefaults\":{\"bgcolor\":\"#506784\",\"borderwidth\":0},\"xaxis\":{\"automargin\":true,\"gridcolor\":\"#283442\",\"linecolor\":\"#506784\",\"ticks\":\"\",\"title\":{\"standoff\":15},\"zerolinecolor\":\"#283442\",\"zerolinewidth\":2},\"yaxis\":{\"automargin\":true,\"gridcolor\":\"#283442\",\"linecolor\":\"#506784\",\"ticks\":\"\",\"title\":{\"standoff\":15},\"zerolinecolor\":\"#283442\",\"zerolinewidth\":2}}},\"geo\":{\"domain\":{\"x\":[0.0,1.0],\"y\":[0.0,1.0]},\"center\":{}},\"coloraxis\":{\"colorbar\":{\"title\":{\"text\":\"Confirmed\"}},\"colorscale\":[[0.0,\"#0d0887\"],[0.1111111111111111,\"#46039f\"],[0.2222222222222222,\"#7201a8\"],[0.3333333333333333,\"#9c179e\"],[0.4444444444444444,\"#bd3786\"],[0.5555555555555556,\"#d8576b\"],[0.6666666666666666,\"#ed7953\"],[0.7777777777777778,\"#fb9f3a\"],[0.8888888888888888,\"#fdca26\"],[1.0,\"#f0f921\"]]},\"legend\":{\"tracegroupgap\":0,\"itemsizing\":\"constant\"},\"margin\":{\"t\":60}},                        {\"responsive\": true}                    ).then(function(){\n",
       "                            \n",
       "var gd = document.getElementById('5e403dbb-7a8e-4b83-a9b9-2a3bd6d6dabb');\n",
       "var x = new MutationObserver(function (mutations, observer) {{\n",
       "        var display = window.getComputedStyle(gd).display;\n",
       "        if (!display || display === 'none') {{\n",
       "            console.log([gd, 'removed!']);\n",
       "            Plotly.purge(gd);\n",
       "            observer.disconnect();\n",
       "        }}\n",
       "}});\n",
       "\n",
       "// Listen for the removal of the full notebook cells\n",
       "var notebookContainer = gd.closest('#notebook-container');\n",
       "if (notebookContainer) {{\n",
       "    x.observe(notebookContainer, {childList: true});\n",
       "}}\n",
       "\n",
       "// Listen for the clearing of the current output cell\n",
       "var outputEl = gd.closest('.output');\n",
       "if (outputEl) {{\n",
       "    x.observe(outputEl, {childList: true});\n",
       "}}\n",
       "\n",
       "                        })                };                });            </script>        </div>"
      ]
     },
     "metadata": {},
     "output_type": "display_data"
    }
   ],
   "source": [
    "import plotly.express as px\n",
    "from data import countries_df\n",
    "\n",
    "fig = px.scatter_geo(countries_df, \n",
    "                     hover_name=\"Country_Region\",\n",
    "                     color=\"Confirmed\", \n",
    "                     locations=\"Country_Region\",\n",
    "                     locationmode=\"country names\", \n",
    "                     hover_data={\"Country_Region\":False,\n",
    "                                  \"Confirmed\":\":,\",\n",
    "                                  \"Recovered\":\":,\",\n",
    "                                  \"Deaths\":\":,\"},\n",
    "                     size=\"Confirmed\",\n",
    "                     size_max=40,\n",
    "                     template=\"plotly_dark\"\n",
    "                    )\n",
    "fig.show()"
   ]
  },
  {
   "cell_type": "code",
   "execution_count": 28,
   "id": "5ced4ac6",
   "metadata": {},
   "outputs": [
    {
     "data": {
      "application/vnd.plotly.v1+json": {
       "config": {
        "plotlyServerURL": "https://plot.ly"
       },
       "data": [
        {
         "alignmentgroup": "True",
         "hovertemplate": "condition=%{x}<br>count=%{y:,}<extra></extra>",
         "legendgroup": "",
         "marker": {
          "color": "#636efa",
          "pattern": {
           "shape": ""
          }
         },
         "name": "",
         "offsetgroup": "",
         "orientation": "v",
         "showlegend": false,
         "textposition": "auto",
         "type": "bar",
         "x": [
          "Confirmed",
          "Deaths",
          "Recovered"
         ],
         "xaxis": "x",
         "y": [
          198378463,
          4220704,
          129705211
         ],
         "yaxis": "y"
        }
       ],
       "layout": {
        "barmode": "relative",
        "legend": {
         "tracegroupgap": 0
        },
        "template": {
         "data": {
          "bar": [
           {
            "error_x": {
             "color": "#f2f5fa"
            },
            "error_y": {
             "color": "#f2f5fa"
            },
            "marker": {
             "line": {
              "color": "rgb(17,17,17)",
              "width": 0.5
             },
             "pattern": {
              "fillmode": "overlay",
              "size": 10,
              "solidity": 0.2
             }
            },
            "type": "bar"
           }
          ],
          "barpolar": [
           {
            "marker": {
             "line": {
              "color": "rgb(17,17,17)",
              "width": 0.5
             },
             "pattern": {
              "fillmode": "overlay",
              "size": 10,
              "solidity": 0.2
             }
            },
            "type": "barpolar"
           }
          ],
          "carpet": [
           {
            "aaxis": {
             "endlinecolor": "#A2B1C6",
             "gridcolor": "#506784",
             "linecolor": "#506784",
             "minorgridcolor": "#506784",
             "startlinecolor": "#A2B1C6"
            },
            "baxis": {
             "endlinecolor": "#A2B1C6",
             "gridcolor": "#506784",
             "linecolor": "#506784",
             "minorgridcolor": "#506784",
             "startlinecolor": "#A2B1C6"
            },
            "type": "carpet"
           }
          ],
          "choropleth": [
           {
            "colorbar": {
             "outlinewidth": 0,
             "ticks": ""
            },
            "type": "choropleth"
           }
          ],
          "contour": [
           {
            "colorbar": {
             "outlinewidth": 0,
             "ticks": ""
            },
            "colorscale": [
             [
              0,
              "#0d0887"
             ],
             [
              0.1111111111111111,
              "#46039f"
             ],
             [
              0.2222222222222222,
              "#7201a8"
             ],
             [
              0.3333333333333333,
              "#9c179e"
             ],
             [
              0.4444444444444444,
              "#bd3786"
             ],
             [
              0.5555555555555556,
              "#d8576b"
             ],
             [
              0.6666666666666666,
              "#ed7953"
             ],
             [
              0.7777777777777778,
              "#fb9f3a"
             ],
             [
              0.8888888888888888,
              "#fdca26"
             ],
             [
              1,
              "#f0f921"
             ]
            ],
            "type": "contour"
           }
          ],
          "contourcarpet": [
           {
            "colorbar": {
             "outlinewidth": 0,
             "ticks": ""
            },
            "type": "contourcarpet"
           }
          ],
          "heatmap": [
           {
            "colorbar": {
             "outlinewidth": 0,
             "ticks": ""
            },
            "colorscale": [
             [
              0,
              "#0d0887"
             ],
             [
              0.1111111111111111,
              "#46039f"
             ],
             [
              0.2222222222222222,
              "#7201a8"
             ],
             [
              0.3333333333333333,
              "#9c179e"
             ],
             [
              0.4444444444444444,
              "#bd3786"
             ],
             [
              0.5555555555555556,
              "#d8576b"
             ],
             [
              0.6666666666666666,
              "#ed7953"
             ],
             [
              0.7777777777777778,
              "#fb9f3a"
             ],
             [
              0.8888888888888888,
              "#fdca26"
             ],
             [
              1,
              "#f0f921"
             ]
            ],
            "type": "heatmap"
           }
          ],
          "heatmapgl": [
           {
            "colorbar": {
             "outlinewidth": 0,
             "ticks": ""
            },
            "colorscale": [
             [
              0,
              "#0d0887"
             ],
             [
              0.1111111111111111,
              "#46039f"
             ],
             [
              0.2222222222222222,
              "#7201a8"
             ],
             [
              0.3333333333333333,
              "#9c179e"
             ],
             [
              0.4444444444444444,
              "#bd3786"
             ],
             [
              0.5555555555555556,
              "#d8576b"
             ],
             [
              0.6666666666666666,
              "#ed7953"
             ],
             [
              0.7777777777777778,
              "#fb9f3a"
             ],
             [
              0.8888888888888888,
              "#fdca26"
             ],
             [
              1,
              "#f0f921"
             ]
            ],
            "type": "heatmapgl"
           }
          ],
          "histogram": [
           {
            "marker": {
             "pattern": {
              "fillmode": "overlay",
              "size": 10,
              "solidity": 0.2
             }
            },
            "type": "histogram"
           }
          ],
          "histogram2d": [
           {
            "colorbar": {
             "outlinewidth": 0,
             "ticks": ""
            },
            "colorscale": [
             [
              0,
              "#0d0887"
             ],
             [
              0.1111111111111111,
              "#46039f"
             ],
             [
              0.2222222222222222,
              "#7201a8"
             ],
             [
              0.3333333333333333,
              "#9c179e"
             ],
             [
              0.4444444444444444,
              "#bd3786"
             ],
             [
              0.5555555555555556,
              "#d8576b"
             ],
             [
              0.6666666666666666,
              "#ed7953"
             ],
             [
              0.7777777777777778,
              "#fb9f3a"
             ],
             [
              0.8888888888888888,
              "#fdca26"
             ],
             [
              1,
              "#f0f921"
             ]
            ],
            "type": "histogram2d"
           }
          ],
          "histogram2dcontour": [
           {
            "colorbar": {
             "outlinewidth": 0,
             "ticks": ""
            },
            "colorscale": [
             [
              0,
              "#0d0887"
             ],
             [
              0.1111111111111111,
              "#46039f"
             ],
             [
              0.2222222222222222,
              "#7201a8"
             ],
             [
              0.3333333333333333,
              "#9c179e"
             ],
             [
              0.4444444444444444,
              "#bd3786"
             ],
             [
              0.5555555555555556,
              "#d8576b"
             ],
             [
              0.6666666666666666,
              "#ed7953"
             ],
             [
              0.7777777777777778,
              "#fb9f3a"
             ],
             [
              0.8888888888888888,
              "#fdca26"
             ],
             [
              1,
              "#f0f921"
             ]
            ],
            "type": "histogram2dcontour"
           }
          ],
          "mesh3d": [
           {
            "colorbar": {
             "outlinewidth": 0,
             "ticks": ""
            },
            "type": "mesh3d"
           }
          ],
          "parcoords": [
           {
            "line": {
             "colorbar": {
              "outlinewidth": 0,
              "ticks": ""
             }
            },
            "type": "parcoords"
           }
          ],
          "pie": [
           {
            "automargin": true,
            "type": "pie"
           }
          ],
          "scatter": [
           {
            "marker": {
             "line": {
              "color": "#283442"
             }
            },
            "type": "scatter"
           }
          ],
          "scatter3d": [
           {
            "line": {
             "colorbar": {
              "outlinewidth": 0,
              "ticks": ""
             }
            },
            "marker": {
             "colorbar": {
              "outlinewidth": 0,
              "ticks": ""
             }
            },
            "type": "scatter3d"
           }
          ],
          "scattercarpet": [
           {
            "marker": {
             "colorbar": {
              "outlinewidth": 0,
              "ticks": ""
             }
            },
            "type": "scattercarpet"
           }
          ],
          "scattergeo": [
           {
            "marker": {
             "colorbar": {
              "outlinewidth": 0,
              "ticks": ""
             }
            },
            "type": "scattergeo"
           }
          ],
          "scattergl": [
           {
            "marker": {
             "line": {
              "color": "#283442"
             }
            },
            "type": "scattergl"
           }
          ],
          "scattermapbox": [
           {
            "marker": {
             "colorbar": {
              "outlinewidth": 0,
              "ticks": ""
             }
            },
            "type": "scattermapbox"
           }
          ],
          "scatterpolar": [
           {
            "marker": {
             "colorbar": {
              "outlinewidth": 0,
              "ticks": ""
             }
            },
            "type": "scatterpolar"
           }
          ],
          "scatterpolargl": [
           {
            "marker": {
             "colorbar": {
              "outlinewidth": 0,
              "ticks": ""
             }
            },
            "type": "scatterpolargl"
           }
          ],
          "scatterternary": [
           {
            "marker": {
             "colorbar": {
              "outlinewidth": 0,
              "ticks": ""
             }
            },
            "type": "scatterternary"
           }
          ],
          "surface": [
           {
            "colorbar": {
             "outlinewidth": 0,
             "ticks": ""
            },
            "colorscale": [
             [
              0,
              "#0d0887"
             ],
             [
              0.1111111111111111,
              "#46039f"
             ],
             [
              0.2222222222222222,
              "#7201a8"
             ],
             [
              0.3333333333333333,
              "#9c179e"
             ],
             [
              0.4444444444444444,
              "#bd3786"
             ],
             [
              0.5555555555555556,
              "#d8576b"
             ],
             [
              0.6666666666666666,
              "#ed7953"
             ],
             [
              0.7777777777777778,
              "#fb9f3a"
             ],
             [
              0.8888888888888888,
              "#fdca26"
             ],
             [
              1,
              "#f0f921"
             ]
            ],
            "type": "surface"
           }
          ],
          "table": [
           {
            "cells": {
             "fill": {
              "color": "#506784"
             },
             "line": {
              "color": "rgb(17,17,17)"
             }
            },
            "header": {
             "fill": {
              "color": "#2a3f5f"
             },
             "line": {
              "color": "rgb(17,17,17)"
             }
            },
            "type": "table"
           }
          ]
         },
         "layout": {
          "annotationdefaults": {
           "arrowcolor": "#f2f5fa",
           "arrowhead": 0,
           "arrowwidth": 1
          },
          "autotypenumbers": "strict",
          "coloraxis": {
           "colorbar": {
            "outlinewidth": 0,
            "ticks": ""
           }
          },
          "colorscale": {
           "diverging": [
            [
             0,
             "#8e0152"
            ],
            [
             0.1,
             "#c51b7d"
            ],
            [
             0.2,
             "#de77ae"
            ],
            [
             0.3,
             "#f1b6da"
            ],
            [
             0.4,
             "#fde0ef"
            ],
            [
             0.5,
             "#f7f7f7"
            ],
            [
             0.6,
             "#e6f5d0"
            ],
            [
             0.7,
             "#b8e186"
            ],
            [
             0.8,
             "#7fbc41"
            ],
            [
             0.9,
             "#4d9221"
            ],
            [
             1,
             "#276419"
            ]
           ],
           "sequential": [
            [
             0,
             "#0d0887"
            ],
            [
             0.1111111111111111,
             "#46039f"
            ],
            [
             0.2222222222222222,
             "#7201a8"
            ],
            [
             0.3333333333333333,
             "#9c179e"
            ],
            [
             0.4444444444444444,
             "#bd3786"
            ],
            [
             0.5555555555555556,
             "#d8576b"
            ],
            [
             0.6666666666666666,
             "#ed7953"
            ],
            [
             0.7777777777777778,
             "#fb9f3a"
            ],
            [
             0.8888888888888888,
             "#fdca26"
            ],
            [
             1,
             "#f0f921"
            ]
           ],
           "sequentialminus": [
            [
             0,
             "#0d0887"
            ],
            [
             0.1111111111111111,
             "#46039f"
            ],
            [
             0.2222222222222222,
             "#7201a8"
            ],
            [
             0.3333333333333333,
             "#9c179e"
            ],
            [
             0.4444444444444444,
             "#bd3786"
            ],
            [
             0.5555555555555556,
             "#d8576b"
            ],
            [
             0.6666666666666666,
             "#ed7953"
            ],
            [
             0.7777777777777778,
             "#fb9f3a"
            ],
            [
             0.8888888888888888,
             "#fdca26"
            ],
            [
             1,
             "#f0f921"
            ]
           ]
          },
          "colorway": [
           "#636efa",
           "#EF553B",
           "#00cc96",
           "#ab63fa",
           "#FFA15A",
           "#19d3f3",
           "#FF6692",
           "#B6E880",
           "#FF97FF",
           "#FECB52"
          ],
          "font": {
           "color": "#f2f5fa"
          },
          "geo": {
           "bgcolor": "rgb(17,17,17)",
           "lakecolor": "rgb(17,17,17)",
           "landcolor": "rgb(17,17,17)",
           "showlakes": true,
           "showland": true,
           "subunitcolor": "#506784"
          },
          "hoverlabel": {
           "align": "left"
          },
          "hovermode": "closest",
          "mapbox": {
           "style": "dark"
          },
          "paper_bgcolor": "rgb(17,17,17)",
          "plot_bgcolor": "rgb(17,17,17)",
          "polar": {
           "angularaxis": {
            "gridcolor": "#506784",
            "linecolor": "#506784",
            "ticks": ""
           },
           "bgcolor": "rgb(17,17,17)",
           "radialaxis": {
            "gridcolor": "#506784",
            "linecolor": "#506784",
            "ticks": ""
           }
          },
          "scene": {
           "xaxis": {
            "backgroundcolor": "rgb(17,17,17)",
            "gridcolor": "#506784",
            "gridwidth": 2,
            "linecolor": "#506784",
            "showbackground": true,
            "ticks": "",
            "zerolinecolor": "#C8D4E3"
           },
           "yaxis": {
            "backgroundcolor": "rgb(17,17,17)",
            "gridcolor": "#506784",
            "gridwidth": 2,
            "linecolor": "#506784",
            "showbackground": true,
            "ticks": "",
            "zerolinecolor": "#C8D4E3"
           },
           "zaxis": {
            "backgroundcolor": "rgb(17,17,17)",
            "gridcolor": "#506784",
            "gridwidth": 2,
            "linecolor": "#506784",
            "showbackground": true,
            "ticks": "",
            "zerolinecolor": "#C8D4E3"
           }
          },
          "shapedefaults": {
           "line": {
            "color": "#f2f5fa"
           }
          },
          "sliderdefaults": {
           "bgcolor": "#C8D4E3",
           "bordercolor": "rgb(17,17,17)",
           "borderwidth": 1,
           "tickwidth": 0
          },
          "ternary": {
           "aaxis": {
            "gridcolor": "#506784",
            "linecolor": "#506784",
            "ticks": ""
           },
           "baxis": {
            "gridcolor": "#506784",
            "linecolor": "#506784",
            "ticks": ""
           },
           "bgcolor": "rgb(17,17,17)",
           "caxis": {
            "gridcolor": "#506784",
            "linecolor": "#506784",
            "ticks": ""
           }
          },
          "title": {
           "x": 0.05
          },
          "updatemenudefaults": {
           "bgcolor": "#506784",
           "borderwidth": 0
          },
          "xaxis": {
           "automargin": true,
           "gridcolor": "#283442",
           "linecolor": "#506784",
           "ticks": "",
           "title": {
            "standoff": 15
           },
           "zerolinecolor": "#283442",
           "zerolinewidth": 2
          },
          "yaxis": {
           "automargin": true,
           "gridcolor": "#283442",
           "linecolor": "#506784",
           "ticks": "",
           "title": {
            "standoff": 15
           },
           "zerolinecolor": "#283442",
           "zerolinewidth": 2
          }
         }
        },
        "title": {
         "text": "Total Global Cases"
        },
        "xaxis": {
         "anchor": "y",
         "domain": [
          0,
          1
         ],
         "title": {
          "text": "Condition"
         }
        },
        "yaxis": {
         "anchor": "x",
         "domain": [
          0,
          1
         ],
         "title": {
          "text": "Count"
         }
        }
       }
      },
      "text/html": [
       "<div>                            <div id=\"706c77ea-ebca-4f55-85dc-de3695058cbf\" class=\"plotly-graph-div\" style=\"height:525px; width:100%;\"></div>            <script type=\"text/javascript\">                require([\"plotly\"], function(Plotly) {                    window.PLOTLYENV=window.PLOTLYENV || {};                                    if (document.getElementById(\"706c77ea-ebca-4f55-85dc-de3695058cbf\")) {                    Plotly.newPlot(                        \"706c77ea-ebca-4f55-85dc-de3695058cbf\",                        [{\"alignmentgroup\":\"True\",\"hovertemplate\":\"condition=%{x}<br>count=%{y:,}<extra></extra>\",\"legendgroup\":\"\",\"marker\":{\"color\":\"#636efa\",\"pattern\":{\"shape\":\"\"}},\"name\":\"\",\"offsetgroup\":\"\",\"orientation\":\"v\",\"showlegend\":false,\"textposition\":\"auto\",\"x\":[\"Confirmed\",\"Deaths\",\"Recovered\"],\"xaxis\":\"x\",\"y\":[198378463.0,4220704.0,129705211.0],\"yaxis\":\"y\",\"type\":\"bar\"}],                        {\"template\":{\"data\":{\"barpolar\":[{\"marker\":{\"line\":{\"color\":\"rgb(17,17,17)\",\"width\":0.5},\"pattern\":{\"fillmode\":\"overlay\",\"size\":10,\"solidity\":0.2}},\"type\":\"barpolar\"}],\"bar\":[{\"error_x\":{\"color\":\"#f2f5fa\"},\"error_y\":{\"color\":\"#f2f5fa\"},\"marker\":{\"line\":{\"color\":\"rgb(17,17,17)\",\"width\":0.5},\"pattern\":{\"fillmode\":\"overlay\",\"size\":10,\"solidity\":0.2}},\"type\":\"bar\"}],\"carpet\":[{\"aaxis\":{\"endlinecolor\":\"#A2B1C6\",\"gridcolor\":\"#506784\",\"linecolor\":\"#506784\",\"minorgridcolor\":\"#506784\",\"startlinecolor\":\"#A2B1C6\"},\"baxis\":{\"endlinecolor\":\"#A2B1C6\",\"gridcolor\":\"#506784\",\"linecolor\":\"#506784\",\"minorgridcolor\":\"#506784\",\"startlinecolor\":\"#A2B1C6\"},\"type\":\"carpet\"}],\"choropleth\":[{\"colorbar\":{\"outlinewidth\":0,\"ticks\":\"\"},\"type\":\"choropleth\"}],\"contourcarpet\":[{\"colorbar\":{\"outlinewidth\":0,\"ticks\":\"\"},\"type\":\"contourcarpet\"}],\"contour\":[{\"colorbar\":{\"outlinewidth\":0,\"ticks\":\"\"},\"colorscale\":[[0.0,\"#0d0887\"],[0.1111111111111111,\"#46039f\"],[0.2222222222222222,\"#7201a8\"],[0.3333333333333333,\"#9c179e\"],[0.4444444444444444,\"#bd3786\"],[0.5555555555555556,\"#d8576b\"],[0.6666666666666666,\"#ed7953\"],[0.7777777777777778,\"#fb9f3a\"],[0.8888888888888888,\"#fdca26\"],[1.0,\"#f0f921\"]],\"type\":\"contour\"}],\"heatmapgl\":[{\"colorbar\":{\"outlinewidth\":0,\"ticks\":\"\"},\"colorscale\":[[0.0,\"#0d0887\"],[0.1111111111111111,\"#46039f\"],[0.2222222222222222,\"#7201a8\"],[0.3333333333333333,\"#9c179e\"],[0.4444444444444444,\"#bd3786\"],[0.5555555555555556,\"#d8576b\"],[0.6666666666666666,\"#ed7953\"],[0.7777777777777778,\"#fb9f3a\"],[0.8888888888888888,\"#fdca26\"],[1.0,\"#f0f921\"]],\"type\":\"heatmapgl\"}],\"heatmap\":[{\"colorbar\":{\"outlinewidth\":0,\"ticks\":\"\"},\"colorscale\":[[0.0,\"#0d0887\"],[0.1111111111111111,\"#46039f\"],[0.2222222222222222,\"#7201a8\"],[0.3333333333333333,\"#9c179e\"],[0.4444444444444444,\"#bd3786\"],[0.5555555555555556,\"#d8576b\"],[0.6666666666666666,\"#ed7953\"],[0.7777777777777778,\"#fb9f3a\"],[0.8888888888888888,\"#fdca26\"],[1.0,\"#f0f921\"]],\"type\":\"heatmap\"}],\"histogram2dcontour\":[{\"colorbar\":{\"outlinewidth\":0,\"ticks\":\"\"},\"colorscale\":[[0.0,\"#0d0887\"],[0.1111111111111111,\"#46039f\"],[0.2222222222222222,\"#7201a8\"],[0.3333333333333333,\"#9c179e\"],[0.4444444444444444,\"#bd3786\"],[0.5555555555555556,\"#d8576b\"],[0.6666666666666666,\"#ed7953\"],[0.7777777777777778,\"#fb9f3a\"],[0.8888888888888888,\"#fdca26\"],[1.0,\"#f0f921\"]],\"type\":\"histogram2dcontour\"}],\"histogram2d\":[{\"colorbar\":{\"outlinewidth\":0,\"ticks\":\"\"},\"colorscale\":[[0.0,\"#0d0887\"],[0.1111111111111111,\"#46039f\"],[0.2222222222222222,\"#7201a8\"],[0.3333333333333333,\"#9c179e\"],[0.4444444444444444,\"#bd3786\"],[0.5555555555555556,\"#d8576b\"],[0.6666666666666666,\"#ed7953\"],[0.7777777777777778,\"#fb9f3a\"],[0.8888888888888888,\"#fdca26\"],[1.0,\"#f0f921\"]],\"type\":\"histogram2d\"}],\"histogram\":[{\"marker\":{\"pattern\":{\"fillmode\":\"overlay\",\"size\":10,\"solidity\":0.2}},\"type\":\"histogram\"}],\"mesh3d\":[{\"colorbar\":{\"outlinewidth\":0,\"ticks\":\"\"},\"type\":\"mesh3d\"}],\"parcoords\":[{\"line\":{\"colorbar\":{\"outlinewidth\":0,\"ticks\":\"\"}},\"type\":\"parcoords\"}],\"pie\":[{\"automargin\":true,\"type\":\"pie\"}],\"scatter3d\":[{\"line\":{\"colorbar\":{\"outlinewidth\":0,\"ticks\":\"\"}},\"marker\":{\"colorbar\":{\"outlinewidth\":0,\"ticks\":\"\"}},\"type\":\"scatter3d\"}],\"scattercarpet\":[{\"marker\":{\"colorbar\":{\"outlinewidth\":0,\"ticks\":\"\"}},\"type\":\"scattercarpet\"}],\"scattergeo\":[{\"marker\":{\"colorbar\":{\"outlinewidth\":0,\"ticks\":\"\"}},\"type\":\"scattergeo\"}],\"scattergl\":[{\"marker\":{\"line\":{\"color\":\"#283442\"}},\"type\":\"scattergl\"}],\"scattermapbox\":[{\"marker\":{\"colorbar\":{\"outlinewidth\":0,\"ticks\":\"\"}},\"type\":\"scattermapbox\"}],\"scatterpolargl\":[{\"marker\":{\"colorbar\":{\"outlinewidth\":0,\"ticks\":\"\"}},\"type\":\"scatterpolargl\"}],\"scatterpolar\":[{\"marker\":{\"colorbar\":{\"outlinewidth\":0,\"ticks\":\"\"}},\"type\":\"scatterpolar\"}],\"scatter\":[{\"marker\":{\"line\":{\"color\":\"#283442\"}},\"type\":\"scatter\"}],\"scatterternary\":[{\"marker\":{\"colorbar\":{\"outlinewidth\":0,\"ticks\":\"\"}},\"type\":\"scatterternary\"}],\"surface\":[{\"colorbar\":{\"outlinewidth\":0,\"ticks\":\"\"},\"colorscale\":[[0.0,\"#0d0887\"],[0.1111111111111111,\"#46039f\"],[0.2222222222222222,\"#7201a8\"],[0.3333333333333333,\"#9c179e\"],[0.4444444444444444,\"#bd3786\"],[0.5555555555555556,\"#d8576b\"],[0.6666666666666666,\"#ed7953\"],[0.7777777777777778,\"#fb9f3a\"],[0.8888888888888888,\"#fdca26\"],[1.0,\"#f0f921\"]],\"type\":\"surface\"}],\"table\":[{\"cells\":{\"fill\":{\"color\":\"#506784\"},\"line\":{\"color\":\"rgb(17,17,17)\"}},\"header\":{\"fill\":{\"color\":\"#2a3f5f\"},\"line\":{\"color\":\"rgb(17,17,17)\"}},\"type\":\"table\"}]},\"layout\":{\"annotationdefaults\":{\"arrowcolor\":\"#f2f5fa\",\"arrowhead\":0,\"arrowwidth\":1},\"autotypenumbers\":\"strict\",\"coloraxis\":{\"colorbar\":{\"outlinewidth\":0,\"ticks\":\"\"}},\"colorscale\":{\"diverging\":[[0,\"#8e0152\"],[0.1,\"#c51b7d\"],[0.2,\"#de77ae\"],[0.3,\"#f1b6da\"],[0.4,\"#fde0ef\"],[0.5,\"#f7f7f7\"],[0.6,\"#e6f5d0\"],[0.7,\"#b8e186\"],[0.8,\"#7fbc41\"],[0.9,\"#4d9221\"],[1,\"#276419\"]],\"sequential\":[[0.0,\"#0d0887\"],[0.1111111111111111,\"#46039f\"],[0.2222222222222222,\"#7201a8\"],[0.3333333333333333,\"#9c179e\"],[0.4444444444444444,\"#bd3786\"],[0.5555555555555556,\"#d8576b\"],[0.6666666666666666,\"#ed7953\"],[0.7777777777777778,\"#fb9f3a\"],[0.8888888888888888,\"#fdca26\"],[1.0,\"#f0f921\"]],\"sequentialminus\":[[0.0,\"#0d0887\"],[0.1111111111111111,\"#46039f\"],[0.2222222222222222,\"#7201a8\"],[0.3333333333333333,\"#9c179e\"],[0.4444444444444444,\"#bd3786\"],[0.5555555555555556,\"#d8576b\"],[0.6666666666666666,\"#ed7953\"],[0.7777777777777778,\"#fb9f3a\"],[0.8888888888888888,\"#fdca26\"],[1.0,\"#f0f921\"]]},\"colorway\":[\"#636efa\",\"#EF553B\",\"#00cc96\",\"#ab63fa\",\"#FFA15A\",\"#19d3f3\",\"#FF6692\",\"#B6E880\",\"#FF97FF\",\"#FECB52\"],\"font\":{\"color\":\"#f2f5fa\"},\"geo\":{\"bgcolor\":\"rgb(17,17,17)\",\"lakecolor\":\"rgb(17,17,17)\",\"landcolor\":\"rgb(17,17,17)\",\"showlakes\":true,\"showland\":true,\"subunitcolor\":\"#506784\"},\"hoverlabel\":{\"align\":\"left\"},\"hovermode\":\"closest\",\"mapbox\":{\"style\":\"dark\"},\"paper_bgcolor\":\"rgb(17,17,17)\",\"plot_bgcolor\":\"rgb(17,17,17)\",\"polar\":{\"angularaxis\":{\"gridcolor\":\"#506784\",\"linecolor\":\"#506784\",\"ticks\":\"\"},\"bgcolor\":\"rgb(17,17,17)\",\"radialaxis\":{\"gridcolor\":\"#506784\",\"linecolor\":\"#506784\",\"ticks\":\"\"}},\"scene\":{\"xaxis\":{\"backgroundcolor\":\"rgb(17,17,17)\",\"gridcolor\":\"#506784\",\"gridwidth\":2,\"linecolor\":\"#506784\",\"showbackground\":true,\"ticks\":\"\",\"zerolinecolor\":\"#C8D4E3\"},\"yaxis\":{\"backgroundcolor\":\"rgb(17,17,17)\",\"gridcolor\":\"#506784\",\"gridwidth\":2,\"linecolor\":\"#506784\",\"showbackground\":true,\"ticks\":\"\",\"zerolinecolor\":\"#C8D4E3\"},\"zaxis\":{\"backgroundcolor\":\"rgb(17,17,17)\",\"gridcolor\":\"#506784\",\"gridwidth\":2,\"linecolor\":\"#506784\",\"showbackground\":true,\"ticks\":\"\",\"zerolinecolor\":\"#C8D4E3\"}},\"shapedefaults\":{\"line\":{\"color\":\"#f2f5fa\"}},\"sliderdefaults\":{\"bgcolor\":\"#C8D4E3\",\"bordercolor\":\"rgb(17,17,17)\",\"borderwidth\":1,\"tickwidth\":0},\"ternary\":{\"aaxis\":{\"gridcolor\":\"#506784\",\"linecolor\":\"#506784\",\"ticks\":\"\"},\"baxis\":{\"gridcolor\":\"#506784\",\"linecolor\":\"#506784\",\"ticks\":\"\"},\"bgcolor\":\"rgb(17,17,17)\",\"caxis\":{\"gridcolor\":\"#506784\",\"linecolor\":\"#506784\",\"ticks\":\"\"}},\"title\":{\"x\":0.05},\"updatemenudefaults\":{\"bgcolor\":\"#506784\",\"borderwidth\":0},\"xaxis\":{\"automargin\":true,\"gridcolor\":\"#283442\",\"linecolor\":\"#506784\",\"ticks\":\"\",\"title\":{\"standoff\":15},\"zerolinecolor\":\"#283442\",\"zerolinewidth\":2},\"yaxis\":{\"automargin\":true,\"gridcolor\":\"#283442\",\"linecolor\":\"#506784\",\"ticks\":\"\",\"title\":{\"standoff\":15},\"zerolinecolor\":\"#283442\",\"zerolinewidth\":2}}},\"xaxis\":{\"anchor\":\"y\",\"domain\":[0.0,1.0],\"title\":{\"text\":\"Condition\"}},\"yaxis\":{\"anchor\":\"x\",\"domain\":[0.0,1.0],\"title\":{\"text\":\"Count\"}},\"legend\":{\"tracegroupgap\":0},\"title\":{\"text\":\"Total Global Cases\"},\"barmode\":\"relative\"},                        {\"responsive\": true}                    ).then(function(){\n",
       "                            \n",
       "var gd = document.getElementById('706c77ea-ebca-4f55-85dc-de3695058cbf');\n",
       "var x = new MutationObserver(function (mutations, observer) {{\n",
       "        var display = window.getComputedStyle(gd).display;\n",
       "        if (!display || display === 'none') {{\n",
       "            console.log([gd, 'removed!']);\n",
       "            Plotly.purge(gd);\n",
       "            observer.disconnect();\n",
       "        }}\n",
       "}});\n",
       "\n",
       "// Listen for the removal of the full notebook cells\n",
       "var notebookContainer = gd.closest('#notebook-container');\n",
       "if (notebookContainer) {{\n",
       "    x.observe(notebookContainer, {childList: true});\n",
       "}}\n",
       "\n",
       "// Listen for the clearing of the current output cell\n",
       "var outputEl = gd.closest('.output');\n",
       "if (outputEl) {{\n",
       "    x.observe(outputEl, {childList: true});\n",
       "}}\n",
       "\n",
       "                        })                };                });            </script>        </div>"
      ]
     },
     "metadata": {},
     "output_type": "display_data"
    }
   ],
   "source": [
    "from data import totals_df\n",
    "\n",
    "fig = px.bar(totals_df, \n",
    "             x=\"condition\", \n",
    "             y=\"count\", \n",
    "             template=\"plotly_dark\", \n",
    "             title=\"Total Global Cases\",\n",
    "            hover_data={\"count\": \":,\"})\n",
    "fig.update_layout(\n",
    "    xaxis=dict(title=\"Condition\"),\n",
    "    yaxis=dict(title=\"Count\")\n",
    ")\n",
    "fig.show()"
   ]
  }
 ],
 "metadata": {
  "kernelspec": {
   "display_name": "Python 3 (ipykernel)",
   "language": "python",
   "name": "python3"
  },
  "language_info": {
   "codemirror_mode": {
    "name": "ipython",
    "version": 3
   },
   "file_extension": ".py",
   "mimetype": "text/x-python",
   "name": "python",
   "nbconvert_exporter": "python",
   "pygments_lexer": "ipython3",
   "version": "3.10.2"
  }
 },
 "nbformat": 4,
 "nbformat_minor": 5
}
